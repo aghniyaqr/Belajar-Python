{
 "cells": [
  {
   "cell_type": "markdown",
   "id": "8c59f8d7",
   "metadata": {},
   "source": [
    "# Basic Python 2"
   ]
  },
  {
   "cell_type": "markdown",
   "id": "3f8fe098",
   "metadata": {},
   "source": [
    "## List"
   ]
  },
  {
   "cell_type": "code",
   "execution_count": 1,
   "id": "eb78a54d",
   "metadata": {},
   "outputs": [],
   "source": [
    "Nama_Reptil=[\"Buaya\",\"Aligator\",\"Ular\",\"Kadal\",\"Kura-kura\"]"
   ]
  },
  {
   "cell_type": "code",
   "execution_count": 2,
   "id": "59cb66f4",
   "metadata": {},
   "outputs": [
    {
     "data": {
      "text/plain": [
       "['Buaya', 'Aligator', 'Ular', 'Kadal', 'Kura-kura']"
      ]
     },
     "execution_count": 2,
     "metadata": {},
     "output_type": "execute_result"
    }
   ],
   "source": [
    "Nama_Reptil"
   ]
  },
  {
   "cell_type": "code",
   "execution_count": 3,
   "id": "ecbb84e4",
   "metadata": {},
   "outputs": [
    {
     "data": {
      "text/plain": [
       "list"
      ]
     },
     "execution_count": 3,
     "metadata": {},
     "output_type": "execute_result"
    }
   ],
   "source": [
    "type(Nama_Reptil)"
   ]
  },
  {
   "cell_type": "code",
   "execution_count": 4,
   "id": "a0f0ccdb",
   "metadata": {},
   "outputs": [
    {
     "data": {
      "text/plain": [
       "5"
      ]
     },
     "execution_count": 4,
     "metadata": {},
     "output_type": "execute_result"
    }
   ],
   "source": [
    "len(Nama_Reptil)"
   ]
  },
  {
   "cell_type": "code",
   "execution_count": 5,
   "id": "7e184ccc",
   "metadata": {},
   "outputs": [
    {
     "name": "stdout",
     "output_type": "stream",
     "text": [
      "Buaya\n"
     ]
    }
   ],
   "source": [
    "print(Nama_Reptil[0])"
   ]
  },
  {
   "cell_type": "code",
   "execution_count": 6,
   "id": "a8b230fc",
   "metadata": {},
   "outputs": [
    {
     "data": {
      "text/plain": [
       "'Aligator'"
      ]
     },
     "execution_count": 6,
     "metadata": {},
     "output_type": "execute_result"
    }
   ],
   "source": [
    "Nama_Reptil[1]"
   ]
  },
  {
   "cell_type": "code",
   "execution_count": 7,
   "id": "94aab7dc",
   "metadata": {},
   "outputs": [
    {
     "data": {
      "text/plain": [
       "'Ular'"
      ]
     },
     "execution_count": 7,
     "metadata": {},
     "output_type": "execute_result"
    }
   ],
   "source": [
    "Nama_Reptil[2]"
   ]
  },
  {
   "cell_type": "code",
   "execution_count": 8,
   "id": "4f8f86fc",
   "metadata": {},
   "outputs": [
    {
     "data": {
      "text/plain": [
       "'Kadal'"
      ]
     },
     "execution_count": 8,
     "metadata": {},
     "output_type": "execute_result"
    }
   ],
   "source": [
    "Nama_Reptil[3]"
   ]
  },
  {
   "cell_type": "code",
   "execution_count": 9,
   "id": "095423b0",
   "metadata": {},
   "outputs": [
    {
     "data": {
      "text/plain": [
       "'Kura-kura'"
      ]
     },
     "execution_count": 9,
     "metadata": {},
     "output_type": "execute_result"
    }
   ],
   "source": [
    "Nama_Reptil[4]"
   ]
  },
  {
   "cell_type": "code",
   "execution_count": 10,
   "id": "91bbaaaf",
   "metadata": {},
   "outputs": [
    {
     "ename": "IndexError",
     "evalue": "list index out of range",
     "output_type": "error",
     "traceback": [
      "\u001b[1;31m---------------------------------------------------------------------------\u001b[0m",
      "\u001b[1;31mIndexError\u001b[0m                                Traceback (most recent call last)",
      "Input \u001b[1;32mIn [10]\u001b[0m, in \u001b[0;36m<cell line: 1>\u001b[1;34m()\u001b[0m\n\u001b[1;32m----> 1\u001b[0m \u001b[43mNama_Reptil\u001b[49m\u001b[43m[\u001b[49m\u001b[38;5;241;43m5\u001b[39;49m\u001b[43m]\u001b[49m\n",
      "\u001b[1;31mIndexError\u001b[0m: list index out of range"
     ]
    }
   ],
   "source": [
    "Nama_Reptil[5]"
   ]
  },
  {
   "cell_type": "markdown",
   "id": "fe20902f",
   "metadata": {},
   "source": [
    "### Modifikasi-Hapus-Tambah"
   ]
  },
  {
   "cell_type": "code",
   "execution_count": 10,
   "id": "3f036d36",
   "metadata": {},
   "outputs": [],
   "source": [
    "Nama_Reptil[2]=\"Python\""
   ]
  },
  {
   "cell_type": "code",
   "execution_count": 11,
   "id": "521254e0",
   "metadata": {},
   "outputs": [
    {
     "data": {
      "text/plain": [
       "['Buaya', 'Aligator', 'Python', 'Kadal', 'Kura-kura']"
      ]
     },
     "execution_count": 11,
     "metadata": {},
     "output_type": "execute_result"
    }
   ],
   "source": [
    "Nama_Reptil"
   ]
  },
  {
   "cell_type": "code",
   "execution_count": 12,
   "id": "4402996c",
   "metadata": {},
   "outputs": [],
   "source": [
    "Nama_Reptil.remove(Nama_Reptil[0])"
   ]
  },
  {
   "cell_type": "code",
   "execution_count": 13,
   "id": "fd7b0cce",
   "metadata": {},
   "outputs": [
    {
     "data": {
      "text/plain": [
       "['Aligator', 'Python', 'Kadal', 'Kura-kura']"
      ]
     },
     "execution_count": 13,
     "metadata": {},
     "output_type": "execute_result"
    }
   ],
   "source": [
    "Nama_Reptil"
   ]
  },
  {
   "cell_type": "code",
   "execution_count": 14,
   "id": "28e5033d",
   "metadata": {},
   "outputs": [],
   "source": [
    "Nama_Reptil.append(\"Penyu\")"
   ]
  },
  {
   "cell_type": "code",
   "execution_count": 15,
   "id": "f37141fc",
   "metadata": {},
   "outputs": [
    {
     "data": {
      "text/plain": [
       "['Aligator', 'Python', 'Kadal', 'Kura-kura', 'Penyu']"
      ]
     },
     "execution_count": 15,
     "metadata": {},
     "output_type": "execute_result"
    }
   ],
   "source": [
    "Nama_Reptil"
   ]
  },
  {
   "cell_type": "markdown",
   "id": "be97ec84",
   "metadata": {},
   "source": [
    "## Tuple"
   ]
  },
  {
   "cell_type": "code",
   "execution_count": 1,
   "id": "eca74786",
   "metadata": {},
   "outputs": [],
   "source": [
    "Nama_Reptil=(\"Buaya\",\"Aligator\",\"Ular\",\"Kadal\",\"Kura-kura\")"
   ]
  },
  {
   "cell_type": "code",
   "execution_count": 2,
   "id": "cc71cb2a",
   "metadata": {},
   "outputs": [
    {
     "data": {
      "text/plain": [
       "tuple"
      ]
     },
     "execution_count": 2,
     "metadata": {},
     "output_type": "execute_result"
    }
   ],
   "source": [
    "type(Nama_Reptil)"
   ]
  },
  {
   "cell_type": "code",
   "execution_count": 3,
   "id": "ea8d9e98",
   "metadata": {},
   "outputs": [
    {
     "data": {
      "text/plain": [
       "5"
      ]
     },
     "execution_count": 3,
     "metadata": {},
     "output_type": "execute_result"
    }
   ],
   "source": [
    "len(Nama_Reptil)"
   ]
  },
  {
   "cell_type": "code",
   "execution_count": 4,
   "id": "63539cf9",
   "metadata": {},
   "outputs": [
    {
     "data": {
      "text/plain": [
       "'Buaya'"
      ]
     },
     "execution_count": 4,
     "metadata": {},
     "output_type": "execute_result"
    }
   ],
   "source": [
    "Nama_Reptil[0]"
   ]
  },
  {
   "cell_type": "markdown",
   "id": "d5580901",
   "metadata": {},
   "source": [
    "## Dictionary"
   ]
  },
  {
   "cell_type": "code",
   "execution_count": 5,
   "id": "ab22c442",
   "metadata": {},
   "outputs": [],
   "source": [
    "Hewan={\"Reptil\":[\"Buaya\",\"Aligator\",\"Ular\",\"Kadal\",\"Kura-kura\"],\n",
    "      \"Mamalia\":[\"Kangguru\",\"Gajah\",\"Sapi\",\"Baboon\",\"Kelinci\"]}"
   ]
  },
  {
   "cell_type": "code",
   "execution_count": 6,
   "id": "1b9eec03",
   "metadata": {},
   "outputs": [
    {
     "data": {
      "text/plain": [
       "dict"
      ]
     },
     "execution_count": 6,
     "metadata": {},
     "output_type": "execute_result"
    }
   ],
   "source": [
    "type(Hewan)"
   ]
  },
  {
   "cell_type": "code",
   "execution_count": 7,
   "id": "a949ebd3",
   "metadata": {},
   "outputs": [
    {
     "data": {
      "text/plain": [
       "2"
      ]
     },
     "execution_count": 7,
     "metadata": {},
     "output_type": "execute_result"
    }
   ],
   "source": [
    "len(Hewan)"
   ]
  },
  {
   "cell_type": "code",
   "execution_count": 8,
   "id": "35ed8015",
   "metadata": {},
   "outputs": [
    {
     "data": {
      "text/plain": [
       "5"
      ]
     },
     "execution_count": 8,
     "metadata": {},
     "output_type": "execute_result"
    }
   ],
   "source": [
    "len(Hewan[\"Reptil\"])"
   ]
  },
  {
   "cell_type": "code",
   "execution_count": 9,
   "id": "000b5fd1",
   "metadata": {},
   "outputs": [
    {
     "data": {
      "text/plain": [
       "5"
      ]
     },
     "execution_count": 9,
     "metadata": {},
     "output_type": "execute_result"
    }
   ],
   "source": [
    "len(Hewan[\"Mamalia\"])"
   ]
  },
  {
   "cell_type": "code",
   "execution_count": 10,
   "id": "3aae4d4b",
   "metadata": {},
   "outputs": [
    {
     "data": {
      "text/plain": [
       "'Buaya'"
      ]
     },
     "execution_count": 10,
     "metadata": {},
     "output_type": "execute_result"
    }
   ],
   "source": [
    "Hewan[\"Reptil\"][0]"
   ]
  },
  {
   "cell_type": "code",
   "execution_count": 11,
   "id": "6627940b",
   "metadata": {},
   "outputs": [
    {
     "data": {
      "text/plain": [
       "'Sapi'"
      ]
     },
     "execution_count": 11,
     "metadata": {},
     "output_type": "execute_result"
    }
   ],
   "source": [
    "Hewan[\"Mamalia\"][2]"
   ]
  },
  {
   "cell_type": "markdown",
   "id": "2581b3c4",
   "metadata": {},
   "source": [
    "### Modifikasi-Hapus-Tambah"
   ]
  },
  {
   "cell_type": "code",
   "execution_count": 12,
   "id": "21ea69c8",
   "metadata": {},
   "outputs": [],
   "source": [
    "Hewan[\"Reptil\"][2]=\"Python\""
   ]
  },
  {
   "cell_type": "code",
   "execution_count": 13,
   "id": "f635d193",
   "metadata": {},
   "outputs": [
    {
     "data": {
      "text/plain": [
       "['Buaya', 'Aligator', 'Python', 'Kadal', 'Kura-kura']"
      ]
     },
     "execution_count": 13,
     "metadata": {},
     "output_type": "execute_result"
    }
   ],
   "source": [
    "Hewan[\"Reptil\"]"
   ]
  },
  {
   "cell_type": "code",
   "execution_count": 14,
   "id": "112fb9c3",
   "metadata": {},
   "outputs": [
    {
     "data": {
      "text/plain": [
       "{'Reptil': ['Buaya', 'Aligator', 'Python', 'Kadal', 'Kura-kura'],\n",
       " 'Mamalia': ['Kangguru', 'Gajah', 'Sapi', 'Baboon', 'Kelinci']}"
      ]
     },
     "execution_count": 14,
     "metadata": {},
     "output_type": "execute_result"
    }
   ],
   "source": [
    "Hewan"
   ]
  },
  {
   "cell_type": "code",
   "execution_count": 15,
   "id": "e56e7fc4",
   "metadata": {},
   "outputs": [],
   "source": [
    "Hewan[\"Mamalia\"].remove(Hewan[\"Mamalia\"][0])"
   ]
  },
  {
   "cell_type": "code",
   "execution_count": 16,
   "id": "da7821a4",
   "metadata": {},
   "outputs": [
    {
     "data": {
      "text/plain": [
       "{'Reptil': ['Buaya', 'Aligator', 'Python', 'Kadal', 'Kura-kura'],\n",
       " 'Mamalia': ['Gajah', 'Sapi', 'Baboon', 'Kelinci']}"
      ]
     },
     "execution_count": 16,
     "metadata": {},
     "output_type": "execute_result"
    }
   ],
   "source": [
    "Hewan"
   ]
  },
  {
   "cell_type": "code",
   "execution_count": 17,
   "id": "da5bd6e6",
   "metadata": {},
   "outputs": [
    {
     "data": {
      "text/plain": [
       "4"
      ]
     },
     "execution_count": 17,
     "metadata": {},
     "output_type": "execute_result"
    }
   ],
   "source": [
    "len(Hewan[\"Mamalia\"])"
   ]
  },
  {
   "cell_type": "code",
   "execution_count": 18,
   "id": "7dbe7bb9",
   "metadata": {},
   "outputs": [],
   "source": [
    "Hewan[\"Unggas\"]=\"Ayam\""
   ]
  },
  {
   "cell_type": "code",
   "execution_count": 19,
   "id": "05572c1a",
   "metadata": {},
   "outputs": [
    {
     "data": {
      "text/plain": [
       "{'Reptil': ['Buaya', 'Aligator', 'Python', 'Kadal', 'Kura-kura'],\n",
       " 'Mamalia': ['Gajah', 'Sapi', 'Baboon', 'Kelinci'],\n",
       " 'Unggas': 'Ayam'}"
      ]
     },
     "execution_count": 19,
     "metadata": {},
     "output_type": "execute_result"
    }
   ],
   "source": [
    "Hewan"
   ]
  },
  {
   "cell_type": "code",
   "execution_count": null,
   "id": "0d8710cb",
   "metadata": {},
   "outputs": [],
   "source": []
  }
 ],
 "metadata": {
  "kernelspec": {
   "display_name": "Python 3 (ipykernel)",
   "language": "python",
   "name": "python3"
  },
  "language_info": {
   "codemirror_mode": {
    "name": "ipython",
    "version": 3
   },
   "file_extension": ".py",
   "mimetype": "text/x-python",
   "name": "python",
   "nbconvert_exporter": "python",
   "pygments_lexer": "ipython3",
   "version": "3.9.12"
  }
 },
 "nbformat": 4,
 "nbformat_minor": 5
}
