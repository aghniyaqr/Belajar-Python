{
 "cells": [
  {
   "cell_type": "markdown",
   "id": "083e7231",
   "metadata": {},
   "source": [
    "# Basic Python 1"
   ]
  },
  {
   "cell_type": "markdown",
   "id": "d0544a30",
   "metadata": {},
   "source": [
    "## Variabel"
   ]
  },
  {
   "cell_type": "code",
   "execution_count": 1,
   "id": "a66ddd71",
   "metadata": {},
   "outputs": [],
   "source": [
    "Text=\"Hola\"\n",
    "Bulat=6\n",
    "Pecah=5.5\n",
    "Multi=[4,5,\"Brian\"]"
   ]
  },
  {
   "cell_type": "code",
   "execution_count": 2,
   "id": "98e1ff4b",
   "metadata": {},
   "outputs": [
    {
     "name": "stdout",
     "output_type": "stream",
     "text": [
      "Hola\n"
     ]
    }
   ],
   "source": [
    "print(Text)"
   ]
  },
  {
   "cell_type": "code",
   "execution_count": 3,
   "id": "358031a3",
   "metadata": {},
   "outputs": [
    {
     "name": "stdout",
     "output_type": "stream",
     "text": [
      "6\n"
     ]
    }
   ],
   "source": [
    "print(Bulat)"
   ]
  },
  {
   "cell_type": "code",
   "execution_count": 4,
   "id": "b3de9b98",
   "metadata": {},
   "outputs": [
    {
     "name": "stdout",
     "output_type": "stream",
     "text": [
      "5.5\n"
     ]
    }
   ],
   "source": [
    "print(Pecah)"
   ]
  },
  {
   "cell_type": "code",
   "execution_count": 5,
   "id": "75166dad",
   "metadata": {},
   "outputs": [
    {
     "name": "stdout",
     "output_type": "stream",
     "text": [
      "[4, 5, 'Brian']\n"
     ]
    }
   ],
   "source": [
    "print(Multi)"
   ]
  },
  {
   "cell_type": "code",
   "execution_count": 6,
   "id": "2001500a",
   "metadata": {},
   "outputs": [
    {
     "name": "stdout",
     "output_type": "stream",
     "text": [
      "Hola Brian\n"
     ]
    }
   ],
   "source": [
    "Nama=\"Brian\"\n",
    "print(Text+\" \"+Nama)"
   ]
  },
  {
   "cell_type": "code",
   "execution_count": 7,
   "id": "8efe9726",
   "metadata": {},
   "outputs": [
    {
     "name": "stdout",
     "output_type": "stream",
     "text": [
      "Hola, Selamat Datang Brian.\n"
     ]
    }
   ],
   "source": [
    "print(\"{}, Selamat Datang {}.\".format(Text,Nama))"
   ]
  },
  {
   "cell_type": "markdown",
   "id": "997ea6d9",
   "metadata": {},
   "source": [
    "### Mengisi beberapa variabel dalam satu baris"
   ]
  },
  {
   "cell_type": "code",
   "execution_count": 8,
   "id": "1f638e89",
   "metadata": {},
   "outputs": [
    {
     "name": "stdout",
     "output_type": "stream",
     "text": [
      "5\n",
      "6\n",
      "Guru\n"
     ]
    }
   ],
   "source": [
    "var1,var2,var3=5,6,\"Guru\"\n",
    "print(var1)\n",
    "print(var2)\n",
    "print(var3)"
   ]
  },
  {
   "cell_type": "code",
   "execution_count": 9,
   "id": "84d461b0",
   "metadata": {},
   "outputs": [
    {
     "name": "stdout",
     "output_type": "stream",
     "text": [
      "10\n",
      "10\n",
      "10\n"
     ]
    }
   ],
   "source": [
    "var1=var2=var3=10\n",
    "print(var1)\n",
    "print(var2)\n",
    "print(var3)"
   ]
  },
  {
   "cell_type": "markdown",
   "id": "eeb51586",
   "metadata": {},
   "source": [
    "## Operator Aritmatika"
   ]
  },
  {
   "cell_type": "code",
   "execution_count": 10,
   "id": "70907313",
   "metadata": {},
   "outputs": [
    {
     "data": {
      "text/plain": [
       "15"
      ]
     },
     "execution_count": 10,
     "metadata": {},
     "output_type": "execute_result"
    }
   ],
   "source": [
    "5+10"
   ]
  },
  {
   "cell_type": "code",
   "execution_count": 11,
   "id": "d2526fef",
   "metadata": {},
   "outputs": [
    {
     "name": "stdout",
     "output_type": "stream",
     "text": [
      "15\n"
     ]
    }
   ],
   "source": [
    "var1=5\n",
    "var2=10\n",
    "var_t=var1+var2\n",
    "print(var_t)"
   ]
  },
  {
   "cell_type": "code",
   "execution_count": 12,
   "id": "80413f36",
   "metadata": {},
   "outputs": [
    {
     "name": "stdout",
     "output_type": "stream",
     "text": [
      "-5\n"
     ]
    }
   ],
   "source": [
    "var1=5\n",
    "var2=10\n",
    "var_t=var1-var2\n",
    "print(var_t)"
   ]
  },
  {
   "cell_type": "code",
   "execution_count": 13,
   "id": "971de59c",
   "metadata": {},
   "outputs": [
    {
     "name": "stdout",
     "output_type": "stream",
     "text": [
      "8\n"
     ]
    }
   ],
   "source": [
    "var1=2\n",
    "var2=4\n",
    "var_t=var1*var2\n",
    "print(var_t)"
   ]
  },
  {
   "cell_type": "code",
   "execution_count": 14,
   "id": "7612ff22",
   "metadata": {},
   "outputs": [
    {
     "name": "stdout",
     "output_type": "stream",
     "text": [
      "0.125\n"
     ]
    }
   ],
   "source": [
    "var1=1\n",
    "var2=8\n",
    "var_t=var1/var2\n",
    "print(var_t)"
   ]
  },
  {
   "cell_type": "code",
   "execution_count": 16,
   "id": "c6e66f42",
   "metadata": {},
   "outputs": [
    {
     "name": "stdout",
     "output_type": "stream",
     "text": [
      "1\n"
     ]
    }
   ],
   "source": [
    "var1=10\n",
    "var2=3\n",
    "var_t=var1%var2\n",
    "print(var_t)"
   ]
  },
  {
   "cell_type": "code",
   "execution_count": 17,
   "id": "241a24bf",
   "metadata": {},
   "outputs": [
    {
     "name": "stdout",
     "output_type": "stream",
     "text": [
      "3\n"
     ]
    }
   ],
   "source": [
    "var1=10\n",
    "var2=3\n",
    "var_t=var1//var2\n",
    "print(var_t)"
   ]
  },
  {
   "cell_type": "code",
   "execution_count": 18,
   "id": "fc82bb00",
   "metadata": {},
   "outputs": [
    {
     "name": "stdout",
     "output_type": "stream",
     "text": [
      "8\n"
     ]
    }
   ],
   "source": [
    "var1=2\n",
    "var2=3\n",
    "var_t=var1**var2\n",
    "print(var_t)"
   ]
  },
  {
   "cell_type": "markdown",
   "id": "a7878c9d",
   "metadata": {},
   "source": [
    "### Update angka variabel dari operator"
   ]
  },
  {
   "cell_type": "code",
   "execution_count": 19,
   "id": "091f2a3d",
   "metadata": {},
   "outputs": [
    {
     "name": "stdout",
     "output_type": "stream",
     "text": [
      "15\n"
     ]
    }
   ],
   "source": [
    "var1=5\n",
    "var1+=10\n",
    "print(var1)"
   ]
  },
  {
   "cell_type": "code",
   "execution_count": 20,
   "id": "eae1a995",
   "metadata": {},
   "outputs": [
    {
     "name": "stdout",
     "output_type": "stream",
     "text": [
      "5\n"
     ]
    }
   ],
   "source": [
    "var1=10\n",
    "var1-=5\n",
    "print(var1)"
   ]
  },
  {
   "cell_type": "code",
   "execution_count": 21,
   "id": "35a6a8be",
   "metadata": {},
   "outputs": [
    {
     "name": "stdout",
     "output_type": "stream",
     "text": [
      "6\n"
     ]
    }
   ],
   "source": [
    "var1=2\n",
    "var1*=3\n",
    "print(var1)"
   ]
  },
  {
   "cell_type": "code",
   "execution_count": 22,
   "id": "90658daf",
   "metadata": {},
   "outputs": [
    {
     "name": "stdout",
     "output_type": "stream",
     "text": [
      "3.3333333333333335\n"
     ]
    }
   ],
   "source": [
    "var1=10\n",
    "var1/=3\n",
    "print(var1)"
   ]
  },
  {
   "cell_type": "code",
   "execution_count": 23,
   "id": "374340ab",
   "metadata": {},
   "outputs": [
    {
     "name": "stdout",
     "output_type": "stream",
     "text": [
      "1\n"
     ]
    }
   ],
   "source": [
    "var1=3\n",
    "var1%=2\n",
    "print(var1)"
   ]
  },
  {
   "cell_type": "markdown",
   "id": "1594e818",
   "metadata": {},
   "source": [
    "## Operator Perbandingan"
   ]
  },
  {
   "cell_type": "code",
   "execution_count": 24,
   "id": "4f289b75",
   "metadata": {},
   "outputs": [
    {
     "name": "stdout",
     "output_type": "stream",
     "text": [
      "False\n"
     ]
    }
   ],
   "source": [
    "var1, var2 = 2, 3\n",
    "print(var1==var2)"
   ]
  },
  {
   "cell_type": "code",
   "execution_count": 25,
   "id": "bbfa0ffb",
   "metadata": {},
   "outputs": [
    {
     "name": "stdout",
     "output_type": "stream",
     "text": [
      "True\n"
     ]
    }
   ],
   "source": [
    "print(2==2)"
   ]
  },
  {
   "cell_type": "code",
   "execution_count": 27,
   "id": "9e71b2c2",
   "metadata": {},
   "outputs": [
    {
     "name": "stdout",
     "output_type": "stream",
     "text": [
      "True\n"
     ]
    }
   ],
   "source": [
    "var1, var2 = 2, 3\n",
    "print(var1!=var2)"
   ]
  },
  {
   "cell_type": "code",
   "execution_count": 28,
   "id": "802bfcc5",
   "metadata": {},
   "outputs": [
    {
     "name": "stdout",
     "output_type": "stream",
     "text": [
      "False\n"
     ]
    }
   ],
   "source": [
    "var1, var2 = 2, 3\n",
    "print(var1>var2)"
   ]
  },
  {
   "cell_type": "code",
   "execution_count": 29,
   "id": "8629b41c",
   "metadata": {},
   "outputs": [
    {
     "name": "stdout",
     "output_type": "stream",
     "text": [
      "True\n"
     ]
    }
   ],
   "source": [
    "var1, var2 = 2, 3\n",
    "print(var1<var2)"
   ]
  },
  {
   "cell_type": "code",
   "execution_count": 30,
   "id": "fc8b36ad",
   "metadata": {},
   "outputs": [
    {
     "name": "stdout",
     "output_type": "stream",
     "text": [
      "False\n"
     ]
    }
   ],
   "source": [
    "var1 = var2 = 3\n",
    "print(var1<var2)"
   ]
  },
  {
   "cell_type": "code",
   "execution_count": 31,
   "id": "4015bd2f",
   "metadata": {},
   "outputs": [
    {
     "name": "stdout",
     "output_type": "stream",
     "text": [
      "True\n"
     ]
    }
   ],
   "source": [
    "print(var1<=var2)"
   ]
  },
  {
   "cell_type": "code",
   "execution_count": 32,
   "id": "00945682",
   "metadata": {},
   "outputs": [
    {
     "name": "stdout",
     "output_type": "stream",
     "text": [
      "True\n"
     ]
    }
   ],
   "source": [
    "print(var1>=var2)"
   ]
  },
  {
   "cell_type": "markdown",
   "id": "f025ba5a",
   "metadata": {},
   "source": [
    "## Operator Logika"
   ]
  },
  {
   "cell_type": "code",
   "execution_count": 33,
   "id": "a59cc374",
   "metadata": {},
   "outputs": [
    {
     "name": "stdout",
     "output_type": "stream",
     "text": [
      "False\n"
     ]
    }
   ],
   "source": [
    "var1=True\n",
    "var2=False\n",
    "var3=True\n",
    "print(True and False)"
   ]
  },
  {
   "cell_type": "code",
   "execution_count": 34,
   "id": "ca8b774b",
   "metadata": {},
   "outputs": [
    {
     "name": "stdout",
     "output_type": "stream",
     "text": [
      "False\n"
     ]
    }
   ],
   "source": [
    "print(var1 and var2)"
   ]
  },
  {
   "cell_type": "code",
   "execution_count": 35,
   "id": "487609c8",
   "metadata": {},
   "outputs": [
    {
     "name": "stdout",
     "output_type": "stream",
     "text": [
      "True\n"
     ]
    }
   ],
   "source": [
    "print(var1 and var3)"
   ]
  },
  {
   "cell_type": "code",
   "execution_count": 36,
   "id": "35135228",
   "metadata": {},
   "outputs": [
    {
     "name": "stdout",
     "output_type": "stream",
     "text": [
      "True\n"
     ]
    }
   ],
   "source": [
    "print(var1 or var2)"
   ]
  },
  {
   "cell_type": "code",
   "execution_count": 37,
   "id": "d1f61b50",
   "metadata": {},
   "outputs": [
    {
     "name": "stdout",
     "output_type": "stream",
     "text": [
      "True\n"
     ]
    }
   ],
   "source": [
    "print(var1 or var3)"
   ]
  },
  {
   "cell_type": "code",
   "execution_count": 38,
   "id": "abe2dfc8",
   "metadata": {},
   "outputs": [
    {
     "name": "stdout",
     "output_type": "stream",
     "text": [
      "False\n"
     ]
    }
   ],
   "source": [
    "print(var2 or var2)"
   ]
  },
  {
   "cell_type": "code",
   "execution_count": 39,
   "id": "12b532bd",
   "metadata": {},
   "outputs": [
    {
     "name": "stdout",
     "output_type": "stream",
     "text": [
      "True\n"
     ]
    }
   ],
   "source": [
    "print(var1)"
   ]
  },
  {
   "cell_type": "code",
   "execution_count": 40,
   "id": "5b451294",
   "metadata": {},
   "outputs": [
    {
     "name": "stdout",
     "output_type": "stream",
     "text": [
      "False\n"
     ]
    }
   ],
   "source": [
    "print(not var1)"
   ]
  },
  {
   "cell_type": "markdown",
   "id": "0fc5025f",
   "metadata": {},
   "source": [
    "## Tipe data dan konversi"
   ]
  },
  {
   "cell_type": "code",
   "execution_count": 41,
   "id": "35c4f5b1",
   "metadata": {},
   "outputs": [],
   "source": [
    "Text=\"Hola\"\n",
    "Bulat=6\n",
    "Pecah=5.5\n",
    "Multi=[4,5,\"Brian\"]"
   ]
  },
  {
   "cell_type": "code",
   "execution_count": 42,
   "id": "2ff8e71a",
   "metadata": {},
   "outputs": [
    {
     "data": {
      "text/plain": [
       "str"
      ]
     },
     "execution_count": 42,
     "metadata": {},
     "output_type": "execute_result"
    }
   ],
   "source": [
    "type(Text)"
   ]
  },
  {
   "cell_type": "code",
   "execution_count": 43,
   "id": "5d3f8581",
   "metadata": {},
   "outputs": [],
   "source": [
    "Nama='Brian'"
   ]
  },
  {
   "cell_type": "code",
   "execution_count": 44,
   "id": "ead96a8a",
   "metadata": {},
   "outputs": [
    {
     "data": {
      "text/plain": [
       "str"
      ]
     },
     "execution_count": 44,
     "metadata": {},
     "output_type": "execute_result"
    }
   ],
   "source": [
    "type(Nama)"
   ]
  },
  {
   "cell_type": "code",
   "execution_count": 45,
   "id": "7272f071",
   "metadata": {},
   "outputs": [
    {
     "data": {
      "text/plain": [
       "int"
      ]
     },
     "execution_count": 45,
     "metadata": {},
     "output_type": "execute_result"
    }
   ],
   "source": [
    "type(Bulat)"
   ]
  },
  {
   "cell_type": "code",
   "execution_count": 46,
   "id": "31f88234",
   "metadata": {},
   "outputs": [
    {
     "data": {
      "text/plain": [
       "float"
      ]
     },
     "execution_count": 46,
     "metadata": {},
     "output_type": "execute_result"
    }
   ],
   "source": [
    "type(Pecah)"
   ]
  },
  {
   "cell_type": "code",
   "execution_count": 47,
   "id": "47dd6a81",
   "metadata": {},
   "outputs": [
    {
     "data": {
      "text/plain": [
       "list"
      ]
     },
     "execution_count": 47,
     "metadata": {},
     "output_type": "execute_result"
    }
   ],
   "source": [
    "type(Multi)"
   ]
  },
  {
   "cell_type": "code",
   "execution_count": 48,
   "id": "7e2b6c45",
   "metadata": {},
   "outputs": [
    {
     "data": {
      "text/plain": [
       "5"
      ]
     },
     "execution_count": 48,
     "metadata": {},
     "output_type": "execute_result"
    }
   ],
   "source": [
    "int(Pecah)"
   ]
  },
  {
   "cell_type": "code",
   "execution_count": 49,
   "id": "43a5cc27",
   "metadata": {},
   "outputs": [
    {
     "data": {
      "text/plain": [
       "5.5"
      ]
     },
     "execution_count": 49,
     "metadata": {},
     "output_type": "execute_result"
    }
   ],
   "source": [
    "Pecah"
   ]
  },
  {
   "cell_type": "code",
   "execution_count": 50,
   "id": "dd2ff204",
   "metadata": {},
   "outputs": [
    {
     "name": "stdout",
     "output_type": "stream",
     "text": [
      "Hola 5.5\n"
     ]
    }
   ],
   "source": [
    "print(Text+\" \"+str(Pecah))"
   ]
  },
  {
   "cell_type": "code",
   "execution_count": null,
   "id": "2bf5d513",
   "metadata": {},
   "outputs": [],
   "source": []
  }
 ],
 "metadata": {
  "kernelspec": {
   "display_name": "Python 3 (ipykernel)",
   "language": "python",
   "name": "python3"
  },
  "language_info": {
   "codemirror_mode": {
    "name": "ipython",
    "version": 3
   },
   "file_extension": ".py",
   "mimetype": "text/x-python",
   "name": "python",
   "nbconvert_exporter": "python",
   "pygments_lexer": "ipython3",
   "version": "3.9.12"
  }
 },
 "nbformat": 4,
 "nbformat_minor": 5
}
