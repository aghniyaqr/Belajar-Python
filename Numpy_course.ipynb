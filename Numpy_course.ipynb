{
 "cells": [
  {
   "cell_type": "code",
   "execution_count": 1,
   "id": "e06679f3",
   "metadata": {},
   "outputs": [],
   "source": [
    "import numpy as np"
   ]
  },
  {
   "cell_type": "code",
   "execution_count": 2,
   "id": "1d3edee9",
   "metadata": {},
   "outputs": [],
   "source": [
    "var1=np.array([1,2,3,4])"
   ]
  },
  {
   "cell_type": "code",
   "execution_count": 3,
   "id": "5b364698",
   "metadata": {},
   "outputs": [
    {
     "data": {
      "text/plain": [
       "array([1, 2, 3, 4])"
      ]
     },
     "execution_count": 3,
     "metadata": {},
     "output_type": "execute_result"
    }
   ],
   "source": [
    "var1"
   ]
  },
  {
   "cell_type": "code",
   "execution_count": 4,
   "id": "d47657e1",
   "metadata": {},
   "outputs": [
    {
     "data": {
      "text/plain": [
       "numpy.ndarray"
      ]
     },
     "execution_count": 4,
     "metadata": {},
     "output_type": "execute_result"
    }
   ],
   "source": [
    "type(var1)"
   ]
  },
  {
   "cell_type": "code",
   "execution_count": 5,
   "id": "b0e1c72c",
   "metadata": {},
   "outputs": [
    {
     "data": {
      "text/plain": [
       "dtype('int32')"
      ]
     },
     "execution_count": 5,
     "metadata": {},
     "output_type": "execute_result"
    }
   ],
   "source": [
    "var1.dtype"
   ]
  },
  {
   "cell_type": "code",
   "execution_count": 6,
   "id": "dcb86dfe",
   "metadata": {},
   "outputs": [],
   "source": [
    "varA=[1,1.1,2]\n",
    "var2=np.array(varA)"
   ]
  },
  {
   "cell_type": "code",
   "execution_count": 7,
   "id": "9db28d9b",
   "metadata": {},
   "outputs": [
    {
     "data": {
      "text/plain": [
       "array([1. , 1.1, 2. ])"
      ]
     },
     "execution_count": 7,
     "metadata": {},
     "output_type": "execute_result"
    }
   ],
   "source": [
    "var2"
   ]
  },
  {
   "cell_type": "code",
   "execution_count": 8,
   "id": "8f3f58f7",
   "metadata": {},
   "outputs": [
    {
     "data": {
      "text/plain": [
       "dtype('float64')"
      ]
     },
     "execution_count": 8,
     "metadata": {},
     "output_type": "execute_result"
    }
   ],
   "source": [
    "var2.dtype"
   ]
  },
  {
   "cell_type": "code",
   "execution_count": 9,
   "id": "ec2b9e60",
   "metadata": {},
   "outputs": [
    {
     "data": {
      "text/plain": [
       "(3,)"
      ]
     },
     "execution_count": 9,
     "metadata": {},
     "output_type": "execute_result"
    }
   ],
   "source": [
    "var2.shape"
   ]
  },
  {
   "cell_type": "code",
   "execution_count": 10,
   "id": "d11e0804",
   "metadata": {},
   "outputs": [],
   "source": [
    "var3=np.array([[1.5,2.5],[3.4]], dtype=object)"
   ]
  },
  {
   "cell_type": "code",
   "execution_count": 11,
   "id": "8e2f0b93",
   "metadata": {},
   "outputs": [
    {
     "data": {
      "text/plain": [
       "array([list([1.5, 2.5]), list([3.4])], dtype=object)"
      ]
     },
     "execution_count": 11,
     "metadata": {},
     "output_type": "execute_result"
    }
   ],
   "source": [
    "var3"
   ]
  },
  {
   "cell_type": "code",
   "execution_count": 12,
   "id": "b336f987",
   "metadata": {},
   "outputs": [],
   "source": [
    "var3=np.array([[1.5,2.5],[3,4]], dtype=object)"
   ]
  },
  {
   "cell_type": "code",
   "execution_count": 13,
   "id": "b9fbe665",
   "metadata": {},
   "outputs": [
    {
     "data": {
      "text/plain": [
       "array([[1.5, 2.5],\n",
       "       [3, 4]], dtype=object)"
      ]
     },
     "execution_count": 13,
     "metadata": {},
     "output_type": "execute_result"
    }
   ],
   "source": [
    "var3"
   ]
  },
  {
   "cell_type": "code",
   "execution_count": 14,
   "id": "41878c97",
   "metadata": {},
   "outputs": [
    {
     "data": {
      "text/plain": [
       "(2, 2)"
      ]
     },
     "execution_count": 14,
     "metadata": {},
     "output_type": "execute_result"
    }
   ],
   "source": [
    "var3.shape"
   ]
  },
  {
   "cell_type": "code",
   "execution_count": 15,
   "id": "dde61996",
   "metadata": {},
   "outputs": [
    {
     "data": {
      "text/plain": [
       "array([1.5, 2.5], dtype=object)"
      ]
     },
     "execution_count": 15,
     "metadata": {},
     "output_type": "execute_result"
    }
   ],
   "source": [
    "var3[0]"
   ]
  },
  {
   "cell_type": "code",
   "execution_count": 16,
   "id": "93aebb4a",
   "metadata": {},
   "outputs": [
    {
     "data": {
      "text/plain": [
       "1.5"
      ]
     },
     "execution_count": 16,
     "metadata": {},
     "output_type": "execute_result"
    }
   ],
   "source": [
    "var3[0,0]"
   ]
  },
  {
   "cell_type": "code",
   "execution_count": 17,
   "id": "49ca88c3",
   "metadata": {},
   "outputs": [
    {
     "data": {
      "text/plain": [
       "4"
      ]
     },
     "execution_count": 17,
     "metadata": {},
     "output_type": "execute_result"
    }
   ],
   "source": [
    "var3[-1,-1]"
   ]
  },
  {
   "cell_type": "code",
   "execution_count": 18,
   "id": "043f6662",
   "metadata": {},
   "outputs": [],
   "source": [
    "var3[-1,0]='Aghniya'"
   ]
  },
  {
   "cell_type": "code",
   "execution_count": 19,
   "id": "6eea4b50",
   "metadata": {},
   "outputs": [
    {
     "data": {
      "text/plain": [
       "array([[1.5, 2.5],\n",
       "       ['Aghniya', 4]], dtype=object)"
      ]
     },
     "execution_count": 19,
     "metadata": {},
     "output_type": "execute_result"
    }
   ],
   "source": [
    "var3"
   ]
  },
  {
   "cell_type": "markdown",
   "id": "d8ea63c5",
   "metadata": {},
   "source": [
    "### Alokasi dan Random Array"
   ]
  },
  {
   "cell_type": "code",
   "execution_count": 20,
   "id": "ff13a46c",
   "metadata": {},
   "outputs": [],
   "source": [
    "varA=np.empty(3)"
   ]
  },
  {
   "cell_type": "code",
   "execution_count": 21,
   "id": "18414030",
   "metadata": {},
   "outputs": [
    {
     "data": {
      "text/plain": [
       "array([1. , 1.1, 2. ])"
      ]
     },
     "execution_count": 21,
     "metadata": {},
     "output_type": "execute_result"
    }
   ],
   "source": [
    "varA"
   ]
  },
  {
   "cell_type": "code",
   "execution_count": 22,
   "id": "e7bff2f7",
   "metadata": {},
   "outputs": [],
   "source": [
    "varB=np.empty((3,2))"
   ]
  },
  {
   "cell_type": "code",
   "execution_count": 23,
   "id": "dfc598a3",
   "metadata": {},
   "outputs": [
    {
     "data": {
      "text/plain": [
       "array([[0., 0.],\n",
       "       [0., 0.],\n",
       "       [0., 0.]])"
      ]
     },
     "execution_count": 23,
     "metadata": {},
     "output_type": "execute_result"
    }
   ],
   "source": [
    "varB"
   ]
  },
  {
   "cell_type": "code",
   "execution_count": 24,
   "id": "dd5dce13",
   "metadata": {},
   "outputs": [
    {
     "data": {
      "text/plain": [
       "0.005"
      ]
     },
     "execution_count": 24,
     "metadata": {},
     "output_type": "execute_result"
    }
   ],
   "source": [
    "5*0.001"
   ]
  },
  {
   "cell_type": "code",
   "execution_count": 25,
   "id": "2829a4d7",
   "metadata": {},
   "outputs": [
    {
     "data": {
      "text/plain": [
       "0.005"
      ]
     },
     "execution_count": 25,
     "metadata": {},
     "output_type": "execute_result"
    }
   ],
   "source": [
    "5*1e-3"
   ]
  },
  {
   "cell_type": "code",
   "execution_count": 26,
   "id": "a439989d",
   "metadata": {},
   "outputs": [],
   "source": [
    "varB=np.zeros((3,2))"
   ]
  },
  {
   "cell_type": "code",
   "execution_count": 27,
   "id": "126c3791",
   "metadata": {},
   "outputs": [
    {
     "data": {
      "text/plain": [
       "array([[0., 0.],\n",
       "       [0., 0.],\n",
       "       [0., 0.]])"
      ]
     },
     "execution_count": 27,
     "metadata": {},
     "output_type": "execute_result"
    }
   ],
   "source": [
    "varB"
   ]
  },
  {
   "cell_type": "code",
   "execution_count": 28,
   "id": "9a272796",
   "metadata": {},
   "outputs": [],
   "source": [
    "varc=np.empty((10,10))"
   ]
  },
  {
   "cell_type": "code",
   "execution_count": 29,
   "id": "01882903",
   "metadata": {},
   "outputs": [
    {
     "data": {
      "text/plain": [
       "array([[1.12249919e-311, 1.12249919e-311, 1.12249919e-311,\n",
       "        1.12249919e-311, 1.12249919e-311, 1.12249919e-311,\n",
       "        1.12249919e-311, 1.12249919e-311, 1.12249919e-311,\n",
       "        1.12249919e-311],\n",
       "       [1.12249919e-311, 1.12249949e-311, 1.12249919e-311,\n",
       "        1.12249919e-311, 1.12249919e-311, 1.12249919e-311,\n",
       "        1.12249919e-311, 1.12249919e-311, 1.12249919e-311,\n",
       "        1.12249919e-311],\n",
       "       [1.12249919e-311, 1.12249919e-311, 1.12249919e-311,\n",
       "        1.12249919e-311, 1.12249919e-311, 1.12249926e-311,\n",
       "        1.12249919e-311, 1.12249919e-311, 1.12249919e-311,\n",
       "        1.12249940e-311],\n",
       "       [1.12250682e-311, 1.12252583e-311, 1.12250721e-311,\n",
       "        1.12252583e-311, 1.12250739e-311, 1.12250738e-311,\n",
       "        1.12252583e-311, 1.12250683e-311, 1.12252515e-311,\n",
       "        1.12250738e-311],\n",
       "       [1.12250680e-311, 1.12250680e-311, 1.12250682e-311,\n",
       "        1.12250682e-311, 1.12252583e-311, 1.12252583e-311,\n",
       "        1.12250681e-311, 1.12252583e-311, 1.12250682e-311,\n",
       "        1.12250723e-311],\n",
       "       [1.12250723e-311, 1.12250723e-311, 1.12250721e-311,\n",
       "        1.12250683e-311, 1.12250683e-311, 1.12250737e-311,\n",
       "        1.12250683e-311, 1.12250682e-311, 1.12250469e-311,\n",
       "        1.12250680e-311],\n",
       "       [1.12252583e-311, 1.12250026e-311, 1.12252583e-311,\n",
       "        1.12252583e-311, 1.12252514e-311, 1.12252513e-311,\n",
       "        1.12252581e-311, 1.12250682e-311, 1.12250682e-311,\n",
       "        1.12249957e-311],\n",
       "       [1.12252583e-311, 1.12252514e-311, 1.12250737e-311,\n",
       "        1.12250432e-311, 1.12250682e-311, 1.12250459e-311,\n",
       "        1.12250682e-311, 1.12249938e-311, 1.12249920e-311,\n",
       "        1.12250721e-311],\n",
       "       [1.12252583e-311, 1.12250738e-311, 1.12250682e-311,\n",
       "        1.12250682e-311, 1.12252583e-311, 1.12250680e-311,\n",
       "        1.12250683e-311, 1.12250682e-311, 1.12250682e-311,\n",
       "        1.12250682e-311],\n",
       "       [1.12250682e-311, 1.12250679e-311, 1.12252583e-311,\n",
       "        1.12250679e-311, 1.12250682e-311, 1.12250723e-311,\n",
       "        1.12249935e-311, 6.19635167e+223, 2.19980342e-152,\n",
       "        2.66062639e-260]])"
      ]
     },
     "execution_count": 29,
     "metadata": {},
     "output_type": "execute_result"
    }
   ],
   "source": [
    "varc"
   ]
  },
  {
   "cell_type": "code",
   "execution_count": 30,
   "id": "87586e9d",
   "metadata": {},
   "outputs": [],
   "source": [
    "varD=np.ones((5,3))"
   ]
  },
  {
   "cell_type": "code",
   "execution_count": 31,
   "id": "7797f313",
   "metadata": {},
   "outputs": [
    {
     "data": {
      "text/plain": [
       "array([[1., 1., 1.],\n",
       "       [1., 1., 1.],\n",
       "       [1., 1., 1.],\n",
       "       [1., 1., 1.],\n",
       "       [1., 1., 1.]])"
      ]
     },
     "execution_count": 31,
     "metadata": {},
     "output_type": "execute_result"
    }
   ],
   "source": [
    "varD"
   ]
  },
  {
   "cell_type": "code",
   "execution_count": 32,
   "id": "b4410de4",
   "metadata": {},
   "outputs": [],
   "source": [
    "varE=np.arange(1,5)"
   ]
  },
  {
   "cell_type": "code",
   "execution_count": 33,
   "id": "696c5562",
   "metadata": {},
   "outputs": [
    {
     "data": {
      "text/plain": [
       "array([1, 2, 3, 4])"
      ]
     },
     "execution_count": 33,
     "metadata": {},
     "output_type": "execute_result"
    }
   ],
   "source": [
    "varE"
   ]
  },
  {
   "cell_type": "code",
   "execution_count": 34,
   "id": "e2fe343a",
   "metadata": {},
   "outputs": [
    {
     "data": {
      "text/plain": [
       "array([1, 3, 5, 7, 9])"
      ]
     },
     "execution_count": 34,
     "metadata": {},
     "output_type": "execute_result"
    }
   ],
   "source": [
    "np.arange(1,10,2)"
   ]
  },
  {
   "cell_type": "code",
   "execution_count": 35,
   "id": "cb2f699d",
   "metadata": {},
   "outputs": [
    {
     "data": {
      "text/plain": [
       "array([1, 3, 5, 7, 9])"
      ]
     },
     "execution_count": 35,
     "metadata": {},
     "output_type": "execute_result"
    }
   ],
   "source": [
    "varMin=1\n",
    "varMax=10\n",
    "varDelta=2\n",
    "np.arange(varMin,varMax,varDelta)"
   ]
  },
  {
   "cell_type": "code",
   "execution_count": 36,
   "id": "0b0d6242",
   "metadata": {},
   "outputs": [
    {
     "data": {
      "text/plain": [
       "array([10,  8,  6,  4])"
      ]
     },
     "execution_count": 36,
     "metadata": {},
     "output_type": "execute_result"
    }
   ],
   "source": [
    "np.arange(10,2,-2)"
   ]
  },
  {
   "cell_type": "markdown",
   "id": "9ca79915",
   "metadata": {},
   "source": [
    "### Random Numpy"
   ]
  },
  {
   "cell_type": "code",
   "execution_count": 37,
   "id": "3f7f4f6f",
   "metadata": {},
   "outputs": [
    {
     "data": {
      "text/plain": [
       "array([0.0042747 , 0.46877125, 0.74390686])"
      ]
     },
     "execution_count": 37,
     "metadata": {},
     "output_type": "execute_result"
    }
   ],
   "source": [
    "np.random.random(3)"
   ]
  },
  {
   "cell_type": "code",
   "execution_count": 41,
   "id": "101edcd6",
   "metadata": {},
   "outputs": [
    {
     "data": {
      "text/plain": [
       "array([[0.27771588, 0.19365353],\n",
       "       [0.52125073, 0.95305261],\n",
       "       [0.91825256, 0.61394958]])"
      ]
     },
     "execution_count": 41,
     "metadata": {},
     "output_type": "execute_result"
    }
   ],
   "source": [
    "np.random.random((3,2))"
   ]
  },
  {
   "cell_type": "code",
   "execution_count": null,
   "id": "823d7312",
   "metadata": {},
   "outputs": [],
   "source": []
  }
 ],
 "metadata": {
  "kernelspec": {
   "display_name": "Python 3 (ipykernel)",
   "language": "python",
   "name": "python3"
  },
  "language_info": {
   "codemirror_mode": {
    "name": "ipython",
    "version": 3
   },
   "file_extension": ".py",
   "mimetype": "text/x-python",
   "name": "python",
   "nbconvert_exporter": "python",
   "pygments_lexer": "ipython3",
   "version": "3.9.12"
  }
 },
 "nbformat": 4,
 "nbformat_minor": 5
}
