{
 "cells": [
  {
   "cell_type": "markdown",
   "id": "15c0be53",
   "metadata": {},
   "source": [
    "# Basic Python 4"
   ]
  },
  {
   "cell_type": "markdown",
   "id": "c40469e2",
   "metadata": {},
   "source": [
    "## Fungsi\n",
    "$$f(x)=x+3$$"
   ]
  },
  {
   "cell_type": "code",
   "execution_count": 1,
   "id": "2840b8b9",
   "metadata": {},
   "outputs": [],
   "source": [
    "def f(x):\n",
    "    print(x+3)"
   ]
  },
  {
   "cell_type": "code",
   "execution_count": 2,
   "id": "c6af7cc6",
   "metadata": {},
   "outputs": [
    {
     "name": "stdout",
     "output_type": "stream",
     "text": [
      "9\n"
     ]
    }
   ],
   "source": [
    "f(6)"
   ]
  },
  {
   "cell_type": "code",
   "execution_count": 3,
   "id": "5adba755",
   "metadata": {},
   "outputs": [
    {
     "name": "stdout",
     "output_type": "stream",
     "text": [
      "12\n"
     ]
    }
   ],
   "source": [
    "f(9)"
   ]
  },
  {
   "cell_type": "code",
   "execution_count": 4,
   "id": "809ec304",
   "metadata": {},
   "outputs": [
    {
     "name": "stdout",
     "output_type": "stream",
     "text": [
      "6\n"
     ]
    }
   ],
   "source": [
    "y=f(3)"
   ]
  },
  {
   "cell_type": "code",
   "execution_count": 5,
   "id": "3db55054",
   "metadata": {},
   "outputs": [
    {
     "name": "stdout",
     "output_type": "stream",
     "text": [
      "None\n"
     ]
    }
   ],
   "source": [
    "print(y)"
   ]
  },
  {
   "cell_type": "code",
   "execution_count": 6,
   "id": "2be36628",
   "metadata": {},
   "outputs": [],
   "source": [
    "def f(x):\n",
    "    return x+3"
   ]
  },
  {
   "cell_type": "code",
   "execution_count": 7,
   "id": "e530d9ba",
   "metadata": {},
   "outputs": [],
   "source": [
    "y=f(3)"
   ]
  },
  {
   "cell_type": "code",
   "execution_count": 8,
   "id": "653c054a",
   "metadata": {},
   "outputs": [
    {
     "name": "stdout",
     "output_type": "stream",
     "text": [
      "6\n"
     ]
    }
   ],
   "source": [
    "print(y)"
   ]
  },
  {
   "cell_type": "code",
   "execution_count": 9,
   "id": "99b56cea",
   "metadata": {},
   "outputs": [],
   "source": [
    "def kecepatan(jarak,waktu):\n",
    "    spd=jarak/waktu\n",
    "    return spd"
   ]
  },
  {
   "cell_type": "code",
   "execution_count": 10,
   "id": "7f0e44c6",
   "metadata": {},
   "outputs": [],
   "source": [
    "panjang=10\n",
    "durasi=5\n",
    "kec=kecepatan(panjang,durasi)"
   ]
  },
  {
   "cell_type": "code",
   "execution_count": 11,
   "id": "a83bf40b",
   "metadata": {},
   "outputs": [
    {
     "name": "stdout",
     "output_type": "stream",
     "text": [
      "2.0\n"
     ]
    }
   ],
   "source": [
    "print(kec)"
   ]
  },
  {
   "cell_type": "code",
   "execution_count": 12,
   "id": "f1105bad",
   "metadata": {},
   "outputs": [
    {
     "data": {
      "text/plain": [
       "2.5"
      ]
     },
     "execution_count": 12,
     "metadata": {},
     "output_type": "execute_result"
    }
   ],
   "source": [
    "kecepatan(10,4)"
   ]
  },
  {
   "cell_type": "code",
   "execution_count": 13,
   "id": "8fc59ad1",
   "metadata": {},
   "outputs": [
    {
     "data": {
      "text/plain": [
       "2.5"
      ]
     },
     "execution_count": 13,
     "metadata": {},
     "output_type": "execute_result"
    }
   ],
   "source": [
    "kecepatan(jarak=10, waktu=4)"
   ]
  },
  {
   "cell_type": "markdown",
   "id": "3ec45d49",
   "metadata": {},
   "source": [
    "## Fungsi Default"
   ]
  },
  {
   "cell_type": "markdown",
   "id": "37ec0a30",
   "metadata": {},
   "source": [
    "### Luas Bola\n",
    "$$4πr^2$$"
   ]
  },
  {
   "cell_type": "code",
   "execution_count": 14,
   "id": "158d11d3",
   "metadata": {},
   "outputs": [],
   "source": [
    "def luas_bola(r,pi=3.14):\n",
    "    return 4*pi*r**2"
   ]
  },
  {
   "cell_type": "code",
   "execution_count": 15,
   "id": "a4e036e7",
   "metadata": {},
   "outputs": [
    {
     "data": {
      "text/plain": [
       "314.0"
      ]
     },
     "execution_count": 15,
     "metadata": {},
     "output_type": "execute_result"
    }
   ],
   "source": [
    "luas_bola(5)"
   ]
  },
  {
   "cell_type": "code",
   "execution_count": 17,
   "id": "11bb4c93",
   "metadata": {},
   "outputs": [],
   "source": [
    "L=luas_bola(10,pi=22/7)"
   ]
  },
  {
   "cell_type": "code",
   "execution_count": 18,
   "id": "fccbc0f6",
   "metadata": {},
   "outputs": [
    {
     "name": "stdout",
     "output_type": "stream",
     "text": [
      "1257.142857142857\n"
     ]
    }
   ],
   "source": [
    "print(L)"
   ]
  },
  {
   "cell_type": "code",
   "execution_count": 19,
   "id": "ba452bb4",
   "metadata": {},
   "outputs": [],
   "source": [
    "L1=luas_bola(10)"
   ]
  },
  {
   "cell_type": "code",
   "execution_count": 20,
   "id": "e7293ba6",
   "metadata": {},
   "outputs": [
    {
     "name": "stdout",
     "output_type": "stream",
     "text": [
      "1256.0\n"
     ]
    }
   ],
   "source": [
    "print(L1)"
   ]
  },
  {
   "cell_type": "code",
   "execution_count": 25,
   "id": "4a986c88",
   "metadata": {},
   "outputs": [],
   "source": [
    "def peserta(Nama,sekolah=\"SMA Karakter\"):\n",
    "    print(\"Selamat datang \"+Nama+\" di \"+sekolah)"
   ]
  },
  {
   "cell_type": "code",
   "execution_count": 26,
   "id": "29cb4bb0",
   "metadata": {},
   "outputs": [
    {
     "name": "stdout",
     "output_type": "stream",
     "text": [
      "Selamat datang Aghniya di SMA Karakter\n"
     ]
    }
   ],
   "source": [
    "peserta(\"Aghniya\")"
   ]
  },
  {
   "cell_type": "code",
   "execution_count": 27,
   "id": "d0bbcb89",
   "metadata": {},
   "outputs": [
    {
     "name": "stdout",
     "output_type": "stream",
     "text": [
      "Selamat datang Pamukti di SMA Akhlak\n"
     ]
    }
   ],
   "source": [
    "peserta(\"Pamukti\",\"SMA Akhlak\")"
   ]
  },
  {
   "cell_type": "markdown",
   "id": "fcf32175",
   "metadata": {},
   "source": [
    "## Fungsi Lambda"
   ]
  },
  {
   "cell_type": "code",
   "execution_count": 28,
   "id": "6d27956e",
   "metadata": {},
   "outputs": [
    {
     "data": {
      "text/plain": [
       "<function __main__.<lambda>(r)>"
      ]
     },
     "execution_count": 28,
     "metadata": {},
     "output_type": "execute_result"
    }
   ],
   "source": [
    "lambda r: 4*3.14**2"
   ]
  },
  {
   "cell_type": "code",
   "execution_count": 31,
   "id": "d8d16150",
   "metadata": {},
   "outputs": [],
   "source": [
    "fungsi1=lambda r: 4*3.14*r**2"
   ]
  },
  {
   "cell_type": "code",
   "execution_count": 32,
   "id": "58c834d5",
   "metadata": {},
   "outputs": [
    {
     "data": {
      "text/plain": [
       "314.0"
      ]
     },
     "execution_count": 32,
     "metadata": {},
     "output_type": "execute_result"
    }
   ],
   "source": [
    "fungsi1(5)"
   ]
  },
  {
   "cell_type": "code",
   "execution_count": 33,
   "id": "0a7366d3",
   "metadata": {},
   "outputs": [
    {
     "data": {
      "text/plain": [
       "314.0"
      ]
     },
     "execution_count": 33,
     "metadata": {},
     "output_type": "execute_result"
    }
   ],
   "source": [
    "(lambda r: 4*3.14*r**2)(5)"
   ]
  },
  {
   "cell_type": "code",
   "execution_count": 34,
   "id": "e9a389ad",
   "metadata": {},
   "outputs": [
    {
     "data": {
      "text/plain": [
       "314.0"
      ]
     },
     "execution_count": 34,
     "metadata": {},
     "output_type": "execute_result"
    }
   ],
   "source": [
    "(lambda r,pi:4*pi*r**2)(5,3.14)"
   ]
  },
  {
   "cell_type": "code",
   "execution_count": 35,
   "id": "f34a95b8",
   "metadata": {},
   "outputs": [
    {
     "data": {
      "text/plain": [
       "314.2857142857143"
      ]
     },
     "execution_count": 35,
     "metadata": {},
     "output_type": "execute_result"
    }
   ],
   "source": [
    "(lambda r,pi:4*pi*r**2)(5,22/7)"
   ]
  },
  {
   "cell_type": "code",
   "execution_count": null,
   "id": "842faf93",
   "metadata": {},
   "outputs": [],
   "source": []
  }
 ],
 "metadata": {
  "kernelspec": {
   "display_name": "Python 3 (ipykernel)",
   "language": "python",
   "name": "python3"
  },
  "language_info": {
   "codemirror_mode": {
    "name": "ipython",
    "version": 3
   },
   "file_extension": ".py",
   "mimetype": "text/x-python",
   "name": "python",
   "nbconvert_exporter": "python",
   "pygments_lexer": "ipython3",
   "version": "3.9.12"
  }
 },
 "nbformat": 4,
 "nbformat_minor": 5
}
