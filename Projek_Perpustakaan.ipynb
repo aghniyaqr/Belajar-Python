{
 "cells": [
  {
   "cell_type": "markdown",
   "id": "ee29302f",
   "metadata": {},
   "source": [
    "# Perpustakaan 1"
   ]
  },
  {
   "cell_type": "code",
   "execution_count": 1,
   "id": "3b4f78fb",
   "metadata": {},
   "outputs": [],
   "source": [
    "# Inisialisasi\n",
    "Nama_buku_1='Fisika'\n",
    "Nama_buku_2='Kimia'\n",
    "Nama_buku_3='Biologi'\n",
    "durasi=3 #Durasi peminjaman selama 3 hari"
   ]
  },
  {
   "cell_type": "code",
   "execution_count": 2,
   "id": "225efff5",
   "metadata": {},
   "outputs": [
    {
     "data": {
      "text/plain": [
       "(str, str, str, int)"
      ]
     },
     "execution_count": 2,
     "metadata": {},
     "output_type": "execute_result"
    }
   ],
   "source": [
    "type(Nama_buku_1),type(Nama_buku_2),type(Nama_buku_3),type(durasi)"
   ]
  },
  {
   "cell_type": "code",
   "execution_count": 3,
   "id": "42086907",
   "metadata": {},
   "outputs": [],
   "source": [
    "kode_buku_1='PS_001'\n",
    "kode_buku_2='PS_002'\n",
    "kode_buku_3='PS_003'"
   ]
  },
  {
   "cell_type": "code",
   "execution_count": 4,
   "id": "086214fc",
   "metadata": {},
   "outputs": [],
   "source": [
    "N_buku_1=N_buku_2=N_buku_3=10"
   ]
  },
  {
   "cell_type": "code",
   "execution_count": 5,
   "id": "7514e259",
   "metadata": {},
   "outputs": [
    {
     "data": {
      "text/plain": [
       "int"
      ]
     },
     "execution_count": 5,
     "metadata": {},
     "output_type": "execute_result"
    }
   ],
   "source": [
    "type(N_buku_1)"
   ]
  },
  {
   "cell_type": "markdown",
   "id": "f1cfd130",
   "metadata": {},
   "source": [
    "# Perpustakaan 2"
   ]
  },
  {
   "cell_type": "code",
   "execution_count": 6,
   "id": "0de714bf",
   "metadata": {},
   "outputs": [],
   "source": [
    "Nama_buku=[Nama_buku_1,Nama_buku_2,Nama_buku_3]\n",
    "kode_buku=[kode_buku_1,kode_buku_2,kode_buku_3]\n",
    "N_buku=[N_buku_1,N_buku_2,N_buku_3]"
   ]
  },
  {
   "cell_type": "code",
   "execution_count": 7,
   "id": "f63d452d",
   "metadata": {},
   "outputs": [
    {
     "data": {
      "text/plain": [
       "(list, list, list)"
      ]
     },
     "execution_count": 7,
     "metadata": {},
     "output_type": "execute_result"
    }
   ],
   "source": [
    "type(Nama_buku), type(kode_buku), type(N_buku)"
   ]
  },
  {
   "cell_type": "code",
   "execution_count": 8,
   "id": "3947338b",
   "metadata": {},
   "outputs": [],
   "source": [
    "pustaka={'Nama':Nama_buku,\n",
    "        'Kode':kode_buku,\n",
    "        'Jumlah':N_buku}"
   ]
  },
  {
   "cell_type": "code",
   "execution_count": 9,
   "id": "ead58623",
   "metadata": {},
   "outputs": [
    {
     "data": {
      "text/plain": [
       "dict"
      ]
     },
     "execution_count": 9,
     "metadata": {},
     "output_type": "execute_result"
    }
   ],
   "source": [
    "type(pustaka)"
   ]
  },
  {
   "cell_type": "code",
   "execution_count": 10,
   "id": "19b24056",
   "metadata": {},
   "outputs": [
    {
     "name": "stdout",
     "output_type": "stream",
     "text": [
      "Buku Seni dengan jumlah 15\n"
     ]
    }
   ],
   "source": [
    "pustaka['Nama'].append('Seni')\n",
    "pustaka['Kode'].append('PS_004')\n",
    "pustaka['Jumlah'].append(15)\n",
    "print(\"Buku {} dengan jumlah {}\".format(pustaka['Nama'][-1],\n",
    "                                       pustaka['Jumlah'][-1]))"
   ]
  },
  {
   "cell_type": "code",
   "execution_count": 11,
   "id": "52bfba70",
   "metadata": {},
   "outputs": [
    {
     "data": {
      "text/plain": [
       "{'Nama': ['Fisika', 'Kimia', 'Biologi', 'Seni'],\n",
       " 'Kode': ['PS_001', 'PS_002', 'PS_003', 'PS_004'],\n",
       " 'Jumlah': [10, 10, 10, 15]}"
      ]
     },
     "execution_count": 11,
     "metadata": {},
     "output_type": "execute_result"
    }
   ],
   "source": [
    "pustaka"
   ]
  },
  {
   "cell_type": "markdown",
   "id": "92a7bd8c",
   "metadata": {},
   "source": [
    "# Perpustakaan 3"
   ]
  },
  {
   "cell_type": "code",
   "execution_count": 12,
   "id": "a9bbca2e",
   "metadata": {},
   "outputs": [
    {
     "name": "stdout",
     "output_type": "stream",
     "text": [
      "Buku yang tersedia:\n",
      "Nama Buku\t Kode Buku\t Jumlah\n",
      "BukuFisika \t KodePS_001 \t 10\n",
      "BukuKimia \t KodePS_002 \t 10\n",
      "BukuBiologi \t KodePS_003 \t 10\n",
      "BukuSeni \t KodePS_004 \t 15\n"
     ]
    }
   ],
   "source": [
    "print('Buku yang tersedia:')\n",
    "print(\"Nama Buku\\t Kode Buku\\t Jumlah\")\n",
    "for i in range (len(pustaka['Nama'])):\n",
    "    print(\"Buku{} \\t Kode{} \\t {}\".format(\n",
    "    pustaka['Nama'][i],\n",
    "    pustaka['Kode'][i],\n",
    "    pustaka['Jumlah'][i]))"
   ]
  },
  {
   "cell_type": "code",
   "execution_count": 13,
   "id": "99c6b3a9",
   "metadata": {},
   "outputs": [
    {
     "name": "stdout",
     "output_type": "stream",
     "text": [
      "Form Peminjaman\n",
      "Nama=Agh\n",
      "Kode=PS_003\n",
      "Bisa Dipinjam Agh\n",
      "Durasi waktu pinjam 3 hari\n"
     ]
    }
   ],
   "source": [
    "print('Form Peminjaman')\n",
    "varNama=str(input('Nama='))\n",
    "varBuku=str(input('Kode='))\n",
    "for i in range (len(pustaka['Kode'])):\n",
    "    if varBuku==pustaka['Kode'][i] and pustaka['Jumlah'][i]>1:\n",
    "        print('Bisa Dipinjam {}'.format(varNama))\n",
    "        print('Durasi waktu pinjam {} hari'. format(durasi))\n",
    "        pustaka['Jumlah'][i]-=1\n",
    "        break\n",
    "    elif i==len(pustaka['Kode'])-1:\n",
    "        print('Tidak bisa dipinjam')"
   ]
  },
  {
   "cell_type": "code",
   "execution_count": 14,
   "id": "65ac0071",
   "metadata": {},
   "outputs": [
    {
     "data": {
      "text/plain": [
       "{'Nama': ['Fisika', 'Kimia', 'Biologi', 'Seni'],\n",
       " 'Kode': ['PS_001', 'PS_002', 'PS_003', 'PS_004'],\n",
       " 'Jumlah': [10, 10, 9, 15]}"
      ]
     },
     "execution_count": 14,
     "metadata": {},
     "output_type": "execute_result"
    }
   ],
   "source": [
    "pustaka"
   ]
  },
  {
   "cell_type": "code",
   "execution_count": 15,
   "id": "13d30f3b",
   "metadata": {},
   "outputs": [
    {
     "name": "stdout",
     "output_type": "stream",
     "text": [
      "Form Pengembalian\n",
      "Nama\t=Agh\n",
      "Kode\t=PS_003\n",
      "Jumlah hari\t=3\n",
      "Terima kasih, Agh\n",
      " Denda sebesar Rp0\n"
     ]
    }
   ],
   "source": [
    "print('Form Pengembalian')\n",
    "varNama=str(input('Nama\\t='))\n",
    "varBuku=str(input('Kode\\t='))\n",
    "varHari=int(input('Jumlah hari\\t='))\n",
    "for i in range (len(pustaka['Kode'])):\n",
    "     if varBuku==pustaka['Kode'][i]:\n",
    "        if varHari>=durasi:\n",
    "            denda=(varHari-durasi)*1000\n",
    "            print('Terima kasih, {}\\n Denda sebesar Rp{}'.format(varNama,denda))\n",
    "            pustaka['Jumlah'][i]+=1\n",
    "            break\n",
    "        else:\n",
    "            print('Terima kasih, {}'.format(varNama))\n",
    "            pustaka['Jumlah'][i]+=1\n",
    "            break\n",
    "     elif i== len(pustaka['Kode'])-1:\n",
    "        print(\"Salah kode\")"
   ]
  },
  {
   "cell_type": "code",
   "execution_count": 16,
   "id": "9569536d",
   "metadata": {},
   "outputs": [
    {
     "data": {
      "text/plain": [
       "{'Nama': ['Fisika', 'Kimia', 'Biologi', 'Seni'],\n",
       " 'Kode': ['PS_001', 'PS_002', 'PS_003', 'PS_004'],\n",
       " 'Jumlah': [10, 10, 10, 15]}"
      ]
     },
     "execution_count": 16,
     "metadata": {},
     "output_type": "execute_result"
    }
   ],
   "source": [
    "pustaka"
   ]
  },
  {
   "cell_type": "markdown",
   "id": "c8859899",
   "metadata": {},
   "source": [
    "# Perpustakaan 4"
   ]
  },
  {
   "cell_type": "code",
   "execution_count": 17,
   "id": "871fb2da",
   "metadata": {},
   "outputs": [],
   "source": [
    "def Data_terakhir():\n",
    "    print('Buku yang tersedia:')\n",
    "    print(\"Nama Buku\\t Kode Buku\\t Jumlah\")\n",
    "    for i in range (len(pustaka['Nama'])):\n",
    "        print(\"Buku{} \\t Kode{} \\t {}\".format(\n",
    "        pustaka['Nama'][i],\n",
    "        pustaka['Kode'][i],\n",
    "        pustaka['Jumlah'][i]))"
   ]
  },
  {
   "cell_type": "code",
   "execution_count": 18,
   "id": "6a32ff36",
   "metadata": {},
   "outputs": [
    {
     "name": "stdout",
     "output_type": "stream",
     "text": [
      "Buku yang tersedia:\n",
      "Nama Buku\t Kode Buku\t Jumlah\n",
      "BukuFisika \t KodePS_001 \t 10\n",
      "BukuKimia \t KodePS_002 \t 10\n",
      "BukuBiologi \t KodePS_003 \t 10\n",
      "BukuSeni \t KodePS_004 \t 15\n"
     ]
    }
   ],
   "source": [
    "Data_terakhir()"
   ]
  },
  {
   "cell_type": "code",
   "execution_count": 19,
   "id": "3944e904",
   "metadata": {},
   "outputs": [],
   "source": [
    "def peminjaman(pustaka=pustaka):\n",
    "    print('Form Peminjaman')\n",
    "    varNama=str(input('Nama='))\n",
    "    varBuku=str(input('Kode='))\n",
    "    for i in range (len(pustaka['Kode'])):\n",
    "        if varBuku==pustaka['Kode'][i] and pustaka['Jumlah'][i]>1:\n",
    "            print('Bisa Dipinjam {}'.format(varNama))\n",
    "            print('Durasi waktu pinjam {} hari'. format(durasi))\n",
    "            pustaka['Jumlah'][i]-=1\n",
    "            break\n",
    "        elif i==len(pustaka['Kode'])-1:\n",
    "            print('Tidak bisa dipinjam')"
   ]
  },
  {
   "cell_type": "code",
   "execution_count": 20,
   "id": "d3e116eb",
   "metadata": {},
   "outputs": [
    {
     "name": "stdout",
     "output_type": "stream",
     "text": [
      "Form Peminjaman\n",
      "Nama=Qin\n",
      "Kode=PS_004\n",
      "Bisa Dipinjam Qin\n",
      "Durasi waktu pinjam 3 hari\n"
     ]
    }
   ],
   "source": [
    "peminjaman()"
   ]
  },
  {
   "cell_type": "code",
   "execution_count": 21,
   "id": "dcebd79d",
   "metadata": {},
   "outputs": [
    {
     "name": "stdout",
     "output_type": "stream",
     "text": [
      "Buku yang tersedia:\n",
      "Nama Buku\t Kode Buku\t Jumlah\n",
      "BukuFisika \t KodePS_001 \t 10\n",
      "BukuKimia \t KodePS_002 \t 10\n",
      "BukuBiologi \t KodePS_003 \t 10\n",
      "BukuSeni \t KodePS_004 \t 14\n"
     ]
    }
   ],
   "source": [
    "Data_terakhir()"
   ]
  },
  {
   "cell_type": "code",
   "execution_count": 22,
   "id": "9ad23380",
   "metadata": {},
   "outputs": [],
   "source": [
    "def pengembalian(pustaka=pustaka):\n",
    "    print('Form Pengembalian')\n",
    "    varNama=str(input('Nama\\t='))\n",
    "    varBuku=str(input('Kode\\t='))\n",
    "    varHari=int(input('Jumlah hari\\t='))\n",
    "    for i in range (len(pustaka['Kode'])):\n",
    "         if varBuku==pustaka['Kode'][i]:\n",
    "            if varHari>=durasi:\n",
    "                denda=(varHari-durasi)*1000\n",
    "                print('Terima kasih, {}\\n Denda sebesar Rp{}'.format(varNama,denda))\n",
    "                pustaka['Jumlah'][i]+=1\n",
    "                break\n",
    "            else:\n",
    "                print('Terima kasih, {}'.format(varNama))\n",
    "                pustaka['Jumlah'][i]+=1\n",
    "                break\n",
    "         elif i== len(pustaka['Kode'])-1:\n",
    "            print(\"Salah kode\")"
   ]
  },
  {
   "cell_type": "code",
   "execution_count": 23,
   "id": "ff6f3381",
   "metadata": {},
   "outputs": [
    {
     "name": "stdout",
     "output_type": "stream",
     "text": [
      "Form Pengembalian\n",
      "Nama\t=Qin\n",
      "Kode\t=PS_004\n",
      "Jumlah hari\t=4\n",
      "Terima kasih, Qin\n",
      " Denda sebesar Rp1000\n"
     ]
    }
   ],
   "source": [
    "pengembalian()"
   ]
  },
  {
   "cell_type": "code",
   "execution_count": 24,
   "id": "499ef0c0",
   "metadata": {},
   "outputs": [
    {
     "name": "stdout",
     "output_type": "stream",
     "text": [
      "Buku yang tersedia:\n",
      "Nama Buku\t Kode Buku\t Jumlah\n",
      "BukuFisika \t KodePS_001 \t 10\n",
      "BukuKimia \t KodePS_002 \t 10\n",
      "BukuBiologi \t KodePS_003 \t 10\n",
      "BukuSeni \t KodePS_004 \t 15\n"
     ]
    }
   ],
   "source": [
    "Data_terakhir()"
   ]
  },
  {
   "cell_type": "code",
   "execution_count": 25,
   "id": "67edff9c",
   "metadata": {},
   "outputs": [],
   "source": [
    "def tambah_buku(varBuku,varKode,varJumlah):\n",
    "    for i in range (len(pustaka['Kode'])):\n",
    "        if varKode == pustaka['Kode'][i]:\n",
    "            pustaka['Jumlah'][i]+=varJumlah\n",
    "            print('Buku {} dengan jumlah {}'.format(pustaka['Nama'][i],\n",
    "                                                   pustaka['Jumlah'][i]))\n",
    "            break\n",
    "    else:\n",
    "        pustaka['Nama'].append(varBuku)\n",
    "        pustaka['Kode'].append(varKode)\n",
    "        pustaka['Jumlah'].append(varJumlah)\n",
    "        print('Buku baru {} dengan jumlah {}'.format(pustaka['Nama'][-1],\n",
    "                                                    pustaka['Jumlah'][-1]))"
   ]
  },
  {
   "cell_type": "code",
   "execution_count": 26,
   "id": "f9313e89",
   "metadata": {},
   "outputs": [
    {
     "name": "stdout",
     "output_type": "stream",
     "text": [
      "Buku baru Indonesia dengan jumlah 7\n"
     ]
    }
   ],
   "source": [
    "Judul='Indonesia'\n",
    "Kode='PS_005'\n",
    "Jumlah=7\n",
    "tambah_buku(Judul,Kode,Jumlah)"
   ]
  },
  {
   "cell_type": "code",
   "execution_count": 27,
   "id": "f4d1119f",
   "metadata": {},
   "outputs": [
    {
     "name": "stdout",
     "output_type": "stream",
     "text": [
      "Buku yang tersedia:\n",
      "Nama Buku\t Kode Buku\t Jumlah\n",
      "BukuFisika \t KodePS_001 \t 10\n",
      "BukuKimia \t KodePS_002 \t 10\n",
      "BukuBiologi \t KodePS_003 \t 10\n",
      "BukuSeni \t KodePS_004 \t 15\n",
      "BukuIndonesia \t KodePS_005 \t 7\n"
     ]
    }
   ],
   "source": [
    "Data_terakhir()"
   ]
  },
  {
   "cell_type": "code",
   "execution_count": 28,
   "id": "044b9c4e",
   "metadata": {},
   "outputs": [
    {
     "name": "stdout",
     "output_type": "stream",
     "text": [
      "Buku Seni dengan jumlah 20\n"
     ]
    }
   ],
   "source": [
    "Judul='Seni'\n",
    "kode='PS_004'\n",
    "jumlah=5\n",
    "tambah_buku(Judul,kode,jumlah)"
   ]
  },
  {
   "cell_type": "code",
   "execution_count": 29,
   "id": "6e60f618",
   "metadata": {},
   "outputs": [
    {
     "name": "stdout",
     "output_type": "stream",
     "text": [
      "Buku yang tersedia:\n",
      "Nama Buku\t Kode Buku\t Jumlah\n",
      "BukuFisika \t KodePS_001 \t 10\n",
      "BukuKimia \t KodePS_002 \t 10\n",
      "BukuBiologi \t KodePS_003 \t 10\n",
      "BukuSeni \t KodePS_004 \t 20\n",
      "BukuIndonesia \t KodePS_005 \t 7\n"
     ]
    }
   ],
   "source": [
    "Data_terakhir()"
   ]
  },
  {
   "cell_type": "markdown",
   "id": "403e9a16",
   "metadata": {},
   "source": [
    "# Perpustakaan 5"
   ]
  },
  {
   "cell_type": "code",
   "execution_count": 30,
   "id": "1bf2122a",
   "metadata": {},
   "outputs": [],
   "source": [
    "import pandas as pd"
   ]
  },
  {
   "cell_type": "code",
   "execution_count": 31,
   "id": "0d082a0c",
   "metadata": {},
   "outputs": [
    {
     "data": {
      "text/plain": [
       "{'Nama': ['Fisika', 'Kimia', 'Biologi', 'Seni', 'Indonesia'],\n",
       " 'Kode': ['PS_001', 'PS_002', 'PS_003', 'PS_004', 'PS_005'],\n",
       " 'Jumlah': [10, 10, 10, 20, 7]}"
      ]
     },
     "execution_count": 31,
     "metadata": {},
     "output_type": "execute_result"
    }
   ],
   "source": [
    "pustaka"
   ]
  },
  {
   "cell_type": "code",
   "execution_count": 32,
   "id": "60e44017",
   "metadata": {},
   "outputs": [],
   "source": [
    "df=pd.DataFrame(pustaka)"
   ]
  },
  {
   "cell_type": "code",
   "execution_count": 33,
   "id": "be62cd6f",
   "metadata": {},
   "outputs": [
    {
     "data": {
      "text/html": [
       "<div>\n",
       "<style scoped>\n",
       "    .dataframe tbody tr th:only-of-type {\n",
       "        vertical-align: middle;\n",
       "    }\n",
       "\n",
       "    .dataframe tbody tr th {\n",
       "        vertical-align: top;\n",
       "    }\n",
       "\n",
       "    .dataframe thead th {\n",
       "        text-align: right;\n",
       "    }\n",
       "</style>\n",
       "<table border=\"1\" class=\"dataframe\">\n",
       "  <thead>\n",
       "    <tr style=\"text-align: right;\">\n",
       "      <th></th>\n",
       "      <th>Nama</th>\n",
       "      <th>Kode</th>\n",
       "      <th>Jumlah</th>\n",
       "    </tr>\n",
       "  </thead>\n",
       "  <tbody>\n",
       "    <tr>\n",
       "      <th>0</th>\n",
       "      <td>Fisika</td>\n",
       "      <td>PS_001</td>\n",
       "      <td>10</td>\n",
       "    </tr>\n",
       "    <tr>\n",
       "      <th>1</th>\n",
       "      <td>Kimia</td>\n",
       "      <td>PS_002</td>\n",
       "      <td>10</td>\n",
       "    </tr>\n",
       "    <tr>\n",
       "      <th>2</th>\n",
       "      <td>Biologi</td>\n",
       "      <td>PS_003</td>\n",
       "      <td>10</td>\n",
       "    </tr>\n",
       "    <tr>\n",
       "      <th>3</th>\n",
       "      <td>Seni</td>\n",
       "      <td>PS_004</td>\n",
       "      <td>20</td>\n",
       "    </tr>\n",
       "    <tr>\n",
       "      <th>4</th>\n",
       "      <td>Indonesia</td>\n",
       "      <td>PS_005</td>\n",
       "      <td>7</td>\n",
       "    </tr>\n",
       "  </tbody>\n",
       "</table>\n",
       "</div>"
      ],
      "text/plain": [
       "        Nama    Kode  Jumlah\n",
       "0     Fisika  PS_001      10\n",
       "1      Kimia  PS_002      10\n",
       "2    Biologi  PS_003      10\n",
       "3       Seni  PS_004      20\n",
       "4  Indonesia  PS_005       7"
      ]
     },
     "execution_count": 33,
     "metadata": {},
     "output_type": "execute_result"
    }
   ],
   "source": [
    "df"
   ]
  },
  {
   "cell_type": "code",
   "execution_count": 34,
   "id": "976bad02",
   "metadata": {},
   "outputs": [],
   "source": [
    "def peminjaman_df(durasi=durasi):\n",
    "    print('Form Peminjaman')\n",
    "    varNama=str(input('Nama='))\n",
    "    varBuku=str(input('Kode='))\n",
    "    for i in range (len(pustaka['Kode'])):\n",
    "        if varBuku==df['Kode'].iloc[i] and df['Jumlah'].iloc[i]>1:\n",
    "            print('Bisa Dipinjam {}'.format(varNama))\n",
    "            print('Durasi waktu pinjam {} hari'. format(durasi))\n",
    "            df.at[i,'Jumlah']-=1\n",
    "            return df\n",
    "            break\n",
    "        elif i==len(df):\n",
    "            print('Tidak bisa dipinjam')"
   ]
  },
  {
   "cell_type": "code",
   "execution_count": 35,
   "id": "41a6407d",
   "metadata": {},
   "outputs": [],
   "source": [
    "def pengembalian_df(durasi=durasi):\n",
    "    print('Form Pengembalian')\n",
    "    varNama=str(input('Nama\\t='))\n",
    "    varBuku=str(input('Kode\\t='))\n",
    "    varHari=int(input('Jumlah hari\\t='))\n",
    "    for i in range (len(pustaka['Kode'])):\n",
    "         if varBuku==df['Kode'][i]:\n",
    "            if varHari>=durasi:\n",
    "                denda=(varHari-durasi)*1000\n",
    "                print('Terima kasih, {}\\n Denda sebesar Rp{}'.format(varNama,denda))\n",
    "                df.at[i,'Jumlah']+=1\n",
    "                return df\n",
    "                break\n",
    "            else:\n",
    "                print('Terima kasih, {}'.format(varNama))\n",
    "                df.at[i,'Jumlah']+=1\n",
    "                return df\n",
    "                break\n",
    "         elif i== len(df):\n",
    "            print(\"Salah kode\")"
   ]
  },
  {
   "cell_type": "code",
   "execution_count": 36,
   "id": "d2ff2e83",
   "metadata": {},
   "outputs": [],
   "source": [
    "def tambah_buku_df(varBuku,varKode,varJumlah,df=df):\n",
    "    for i in range (len(df)):\n",
    "        if varKode == df['Kode'][i]:\n",
    "            df.at[i,'Jumlah']+=varJumlah\n",
    "            print('Buku {} dengan jumlah {}'.format(df['Nama'].iloc[i],\n",
    "                                                   df['Jumlah'].iloc[i]))\n",
    "            break\n",
    "    else:\n",
    "        var1={'Nama':varBuku,'Kode':varKode,'Jumlah':varJumlah}\n",
    "        df=df.append(var1, ignore_index=True)\n",
    "        print('Buku baru {} dengan jumlah {}'.format(df['Nama'].iloc[-1],\n",
    "                                                    df['Jumlah'].iloc[-1]))\n",
    "    return df"
   ]
  },
  {
   "cell_type": "code",
   "execution_count": 37,
   "id": "f41d6417",
   "metadata": {},
   "outputs": [
    {
     "data": {
      "text/html": [
       "<div>\n",
       "<style scoped>\n",
       "    .dataframe tbody tr th:only-of-type {\n",
       "        vertical-align: middle;\n",
       "    }\n",
       "\n",
       "    .dataframe tbody tr th {\n",
       "        vertical-align: top;\n",
       "    }\n",
       "\n",
       "    .dataframe thead th {\n",
       "        text-align: right;\n",
       "    }\n",
       "</style>\n",
       "<table border=\"1\" class=\"dataframe\">\n",
       "  <thead>\n",
       "    <tr style=\"text-align: right;\">\n",
       "      <th></th>\n",
       "      <th>Nama</th>\n",
       "      <th>Kode</th>\n",
       "      <th>Jumlah</th>\n",
       "    </tr>\n",
       "  </thead>\n",
       "  <tbody>\n",
       "    <tr>\n",
       "      <th>0</th>\n",
       "      <td>Fisika</td>\n",
       "      <td>PS_001</td>\n",
       "      <td>10</td>\n",
       "    </tr>\n",
       "    <tr>\n",
       "      <th>1</th>\n",
       "      <td>Kimia</td>\n",
       "      <td>PS_002</td>\n",
       "      <td>10</td>\n",
       "    </tr>\n",
       "    <tr>\n",
       "      <th>2</th>\n",
       "      <td>Biologi</td>\n",
       "      <td>PS_003</td>\n",
       "      <td>10</td>\n",
       "    </tr>\n",
       "    <tr>\n",
       "      <th>3</th>\n",
       "      <td>Seni</td>\n",
       "      <td>PS_004</td>\n",
       "      <td>20</td>\n",
       "    </tr>\n",
       "    <tr>\n",
       "      <th>4</th>\n",
       "      <td>Indonesia</td>\n",
       "      <td>PS_005</td>\n",
       "      <td>7</td>\n",
       "    </tr>\n",
       "  </tbody>\n",
       "</table>\n",
       "</div>"
      ],
      "text/plain": [
       "        Nama    Kode  Jumlah\n",
       "0     Fisika  PS_001      10\n",
       "1      Kimia  PS_002      10\n",
       "2    Biologi  PS_003      10\n",
       "3       Seni  PS_004      20\n",
       "4  Indonesia  PS_005       7"
      ]
     },
     "execution_count": 37,
     "metadata": {},
     "output_type": "execute_result"
    }
   ],
   "source": [
    "df"
   ]
  },
  {
   "cell_type": "code",
   "execution_count": 38,
   "id": "a220fdcf",
   "metadata": {},
   "outputs": [
    {
     "name": "stdout",
     "output_type": "stream",
     "text": [
      "Form Peminjaman\n",
      "Nama=Aghniya\n",
      "Kode=PS_001\n",
      "Bisa Dipinjam Aghniya\n",
      "Durasi waktu pinjam 3 hari\n"
     ]
    }
   ],
   "source": [
    "df=peminjaman_df()"
   ]
  },
  {
   "cell_type": "code",
   "execution_count": 39,
   "id": "5986bcc1",
   "metadata": {},
   "outputs": [
    {
     "data": {
      "text/html": [
       "<div>\n",
       "<style scoped>\n",
       "    .dataframe tbody tr th:only-of-type {\n",
       "        vertical-align: middle;\n",
       "    }\n",
       "\n",
       "    .dataframe tbody tr th {\n",
       "        vertical-align: top;\n",
       "    }\n",
       "\n",
       "    .dataframe thead th {\n",
       "        text-align: right;\n",
       "    }\n",
       "</style>\n",
       "<table border=\"1\" class=\"dataframe\">\n",
       "  <thead>\n",
       "    <tr style=\"text-align: right;\">\n",
       "      <th></th>\n",
       "      <th>Nama</th>\n",
       "      <th>Kode</th>\n",
       "      <th>Jumlah</th>\n",
       "    </tr>\n",
       "  </thead>\n",
       "  <tbody>\n",
       "    <tr>\n",
       "      <th>0</th>\n",
       "      <td>Fisika</td>\n",
       "      <td>PS_001</td>\n",
       "      <td>9</td>\n",
       "    </tr>\n",
       "    <tr>\n",
       "      <th>1</th>\n",
       "      <td>Kimia</td>\n",
       "      <td>PS_002</td>\n",
       "      <td>10</td>\n",
       "    </tr>\n",
       "    <tr>\n",
       "      <th>2</th>\n",
       "      <td>Biologi</td>\n",
       "      <td>PS_003</td>\n",
       "      <td>10</td>\n",
       "    </tr>\n",
       "    <tr>\n",
       "      <th>3</th>\n",
       "      <td>Seni</td>\n",
       "      <td>PS_004</td>\n",
       "      <td>20</td>\n",
       "    </tr>\n",
       "    <tr>\n",
       "      <th>4</th>\n",
       "      <td>Indonesia</td>\n",
       "      <td>PS_005</td>\n",
       "      <td>7</td>\n",
       "    </tr>\n",
       "  </tbody>\n",
       "</table>\n",
       "</div>"
      ],
      "text/plain": [
       "        Nama    Kode  Jumlah\n",
       "0     Fisika  PS_001       9\n",
       "1      Kimia  PS_002      10\n",
       "2    Biologi  PS_003      10\n",
       "3       Seni  PS_004      20\n",
       "4  Indonesia  PS_005       7"
      ]
     },
     "execution_count": 39,
     "metadata": {},
     "output_type": "execute_result"
    }
   ],
   "source": [
    "df"
   ]
  },
  {
   "cell_type": "code",
   "execution_count": 40,
   "id": "595ff124",
   "metadata": {},
   "outputs": [
    {
     "name": "stdout",
     "output_type": "stream",
     "text": [
      "Buku baru Astronomi dengan jumlah 5\n"
     ]
    },
    {
     "name": "stderr",
     "output_type": "stream",
     "text": [
      "C:\\Users\\user\\AppData\\Local\\Temp\\ipykernel_316\\359771905.py:10: FutureWarning: The frame.append method is deprecated and will be removed from pandas in a future version. Use pandas.concat instead.\n",
      "  df=df.append(var1, ignore_index=True)\n"
     ]
    }
   ],
   "source": [
    "Judul='Astronomi'\n",
    "Kode='PS_006'\n",
    "Jumlah=5\n",
    "df=tambah_buku_df(Judul,Kode,Jumlah)"
   ]
  },
  {
   "cell_type": "code",
   "execution_count": 41,
   "id": "da05715a",
   "metadata": {},
   "outputs": [
    {
     "data": {
      "text/html": [
       "<div>\n",
       "<style scoped>\n",
       "    .dataframe tbody tr th:only-of-type {\n",
       "        vertical-align: middle;\n",
       "    }\n",
       "\n",
       "    .dataframe tbody tr th {\n",
       "        vertical-align: top;\n",
       "    }\n",
       "\n",
       "    .dataframe thead th {\n",
       "        text-align: right;\n",
       "    }\n",
       "</style>\n",
       "<table border=\"1\" class=\"dataframe\">\n",
       "  <thead>\n",
       "    <tr style=\"text-align: right;\">\n",
       "      <th></th>\n",
       "      <th>Nama</th>\n",
       "      <th>Kode</th>\n",
       "      <th>Jumlah</th>\n",
       "    </tr>\n",
       "  </thead>\n",
       "  <tbody>\n",
       "    <tr>\n",
       "      <th>0</th>\n",
       "      <td>Fisika</td>\n",
       "      <td>PS_001</td>\n",
       "      <td>9</td>\n",
       "    </tr>\n",
       "    <tr>\n",
       "      <th>1</th>\n",
       "      <td>Kimia</td>\n",
       "      <td>PS_002</td>\n",
       "      <td>10</td>\n",
       "    </tr>\n",
       "    <tr>\n",
       "      <th>2</th>\n",
       "      <td>Biologi</td>\n",
       "      <td>PS_003</td>\n",
       "      <td>10</td>\n",
       "    </tr>\n",
       "    <tr>\n",
       "      <th>3</th>\n",
       "      <td>Seni</td>\n",
       "      <td>PS_004</td>\n",
       "      <td>20</td>\n",
       "    </tr>\n",
       "    <tr>\n",
       "      <th>4</th>\n",
       "      <td>Indonesia</td>\n",
       "      <td>PS_005</td>\n",
       "      <td>7</td>\n",
       "    </tr>\n",
       "    <tr>\n",
       "      <th>5</th>\n",
       "      <td>Astronomi</td>\n",
       "      <td>PS_006</td>\n",
       "      <td>5</td>\n",
       "    </tr>\n",
       "  </tbody>\n",
       "</table>\n",
       "</div>"
      ],
      "text/plain": [
       "        Nama    Kode  Jumlah\n",
       "0     Fisika  PS_001       9\n",
       "1      Kimia  PS_002      10\n",
       "2    Biologi  PS_003      10\n",
       "3       Seni  PS_004      20\n",
       "4  Indonesia  PS_005       7\n",
       "5  Astronomi  PS_006       5"
      ]
     },
     "execution_count": 41,
     "metadata": {},
     "output_type": "execute_result"
    }
   ],
   "source": [
    "df"
   ]
  },
  {
   "cell_type": "markdown",
   "id": "7bb9b851",
   "metadata": {},
   "source": [
    "# Perpustakaan 6"
   ]
  },
  {
   "cell_type": "code",
   "execution_count": 42,
   "id": "e1d381b2",
   "metadata": {},
   "outputs": [],
   "source": [
    "import numpy as np\n",
    "import matplotlib.pyplot as plt"
   ]
  },
  {
   "cell_type": "code",
   "execution_count": 45,
   "id": "f31db51e",
   "metadata": {},
   "outputs": [],
   "source": [
    "df['Pinjam']=np.random.randint(1,6,6)"
   ]
  },
  {
   "cell_type": "code",
   "execution_count": 46,
   "id": "748b0a1c",
   "metadata": {},
   "outputs": [
    {
     "data": {
      "text/html": [
       "<div>\n",
       "<style scoped>\n",
       "    .dataframe tbody tr th:only-of-type {\n",
       "        vertical-align: middle;\n",
       "    }\n",
       "\n",
       "    .dataframe tbody tr th {\n",
       "        vertical-align: top;\n",
       "    }\n",
       "\n",
       "    .dataframe thead th {\n",
       "        text-align: right;\n",
       "    }\n",
       "</style>\n",
       "<table border=\"1\" class=\"dataframe\">\n",
       "  <thead>\n",
       "    <tr style=\"text-align: right;\">\n",
       "      <th></th>\n",
       "      <th>Nama</th>\n",
       "      <th>Kode</th>\n",
       "      <th>Jumlah</th>\n",
       "      <th>Pinjam</th>\n",
       "    </tr>\n",
       "  </thead>\n",
       "  <tbody>\n",
       "    <tr>\n",
       "      <th>0</th>\n",
       "      <td>Fisika</td>\n",
       "      <td>PS_001</td>\n",
       "      <td>9</td>\n",
       "      <td>1</td>\n",
       "    </tr>\n",
       "    <tr>\n",
       "      <th>1</th>\n",
       "      <td>Kimia</td>\n",
       "      <td>PS_002</td>\n",
       "      <td>10</td>\n",
       "      <td>2</td>\n",
       "    </tr>\n",
       "    <tr>\n",
       "      <th>2</th>\n",
       "      <td>Biologi</td>\n",
       "      <td>PS_003</td>\n",
       "      <td>10</td>\n",
       "      <td>5</td>\n",
       "    </tr>\n",
       "    <tr>\n",
       "      <th>3</th>\n",
       "      <td>Seni</td>\n",
       "      <td>PS_004</td>\n",
       "      <td>20</td>\n",
       "      <td>4</td>\n",
       "    </tr>\n",
       "    <tr>\n",
       "      <th>4</th>\n",
       "      <td>Indonesia</td>\n",
       "      <td>PS_005</td>\n",
       "      <td>7</td>\n",
       "      <td>2</td>\n",
       "    </tr>\n",
       "    <tr>\n",
       "      <th>5</th>\n",
       "      <td>Astronomi</td>\n",
       "      <td>PS_006</td>\n",
       "      <td>5</td>\n",
       "      <td>5</td>\n",
       "    </tr>\n",
       "  </tbody>\n",
       "</table>\n",
       "</div>"
      ],
      "text/plain": [
       "        Nama    Kode  Jumlah  Pinjam\n",
       "0     Fisika  PS_001       9       1\n",
       "1      Kimia  PS_002      10       2\n",
       "2    Biologi  PS_003      10       5\n",
       "3       Seni  PS_004      20       4\n",
       "4  Indonesia  PS_005       7       2\n",
       "5  Astronomi  PS_006       5       5"
      ]
     },
     "execution_count": 46,
     "metadata": {},
     "output_type": "execute_result"
    }
   ],
   "source": [
    "df"
   ]
  },
  {
   "cell_type": "code",
   "execution_count": 47,
   "id": "ff8737d1",
   "metadata": {},
   "outputs": [],
   "source": [
    "def peminjaman_df(durasi=durasi):\n",
    "    print('Form Peminjaman')\n",
    "    varNama=str(input('Nama='))\n",
    "    varBuku=str(input('Kode='))\n",
    "    for i in range (len(pustaka['Kode'])):\n",
    "        if varBuku==df['Kode'].iloc[i] and df['Jumlah'].iloc[i]>1:\n",
    "            print('Bisa Dipinjam {}'.format(varNama))\n",
    "            print('Durasi waktu pinjam {} hari'. format(durasi))\n",
    "            df.at[i,'Jumlah']-=1\n",
    "            df.at[i,'Pinjam']+=1\n",
    "            return df\n",
    "            break\n",
    "        elif i==len(df):\n",
    "            print('Tidak bisa dipinjam')"
   ]
  },
  {
   "cell_type": "code",
   "execution_count": 48,
   "id": "673008e7",
   "metadata": {},
   "outputs": [],
   "source": [
    "def pengembalian_df(durasi=durasi):\n",
    "    print('Form Pengembalian')\n",
    "    varNama=str(input('Nama\\t='))\n",
    "    varBuku=str(input('Kode\\t='))\n",
    "    varHari=int(input('Jumlah hari\\t='))\n",
    "    for i in range (len(pustaka['Kode'])):\n",
    "         if varBuku==df['Kode'][i]:\n",
    "            if varHari>=durasi:\n",
    "                denda=(varHari-durasi)*1000\n",
    "                print('Terima kasih, {}\\n Denda sebesar Rp{}'.format(varNama,denda))\n",
    "                df.at[i,'Jumlah']+=1\n",
    "                df.at[i,'Pinjam']-=1\n",
    "                return df\n",
    "                break\n",
    "            else:\n",
    "                print('Terima kasih, {}'.format(varNama))\n",
    "                df.at[i,'Jumlah']+=1\n",
    "                df.at[i,'Pinjam']-=1\n",
    "                return df\n",
    "                break\n",
    "         elif i== len(df):\n",
    "            print(\"Salah kode\")"
   ]
  },
  {
   "cell_type": "code",
   "execution_count": 49,
   "id": "c119715e",
   "metadata": {},
   "outputs": [
    {
     "data": {
      "text/html": [
       "<div>\n",
       "<style scoped>\n",
       "    .dataframe tbody tr th:only-of-type {\n",
       "        vertical-align: middle;\n",
       "    }\n",
       "\n",
       "    .dataframe tbody tr th {\n",
       "        vertical-align: top;\n",
       "    }\n",
       "\n",
       "    .dataframe thead th {\n",
       "        text-align: right;\n",
       "    }\n",
       "</style>\n",
       "<table border=\"1\" class=\"dataframe\">\n",
       "  <thead>\n",
       "    <tr style=\"text-align: right;\">\n",
       "      <th></th>\n",
       "      <th>Nama</th>\n",
       "      <th>Kode</th>\n",
       "      <th>Jumlah</th>\n",
       "      <th>Pinjam</th>\n",
       "    </tr>\n",
       "  </thead>\n",
       "  <tbody>\n",
       "    <tr>\n",
       "      <th>0</th>\n",
       "      <td>Fisika</td>\n",
       "      <td>PS_001</td>\n",
       "      <td>9</td>\n",
       "      <td>1</td>\n",
       "    </tr>\n",
       "    <tr>\n",
       "      <th>1</th>\n",
       "      <td>Kimia</td>\n",
       "      <td>PS_002</td>\n",
       "      <td>10</td>\n",
       "      <td>2</td>\n",
       "    </tr>\n",
       "    <tr>\n",
       "      <th>2</th>\n",
       "      <td>Biologi</td>\n",
       "      <td>PS_003</td>\n",
       "      <td>10</td>\n",
       "      <td>5</td>\n",
       "    </tr>\n",
       "    <tr>\n",
       "      <th>3</th>\n",
       "      <td>Seni</td>\n",
       "      <td>PS_004</td>\n",
       "      <td>20</td>\n",
       "      <td>4</td>\n",
       "    </tr>\n",
       "    <tr>\n",
       "      <th>4</th>\n",
       "      <td>Indonesia</td>\n",
       "      <td>PS_005</td>\n",
       "      <td>7</td>\n",
       "      <td>2</td>\n",
       "    </tr>\n",
       "    <tr>\n",
       "      <th>5</th>\n",
       "      <td>Astronomi</td>\n",
       "      <td>PS_006</td>\n",
       "      <td>5</td>\n",
       "      <td>5</td>\n",
       "    </tr>\n",
       "  </tbody>\n",
       "</table>\n",
       "</div>"
      ],
      "text/plain": [
       "        Nama    Kode  Jumlah  Pinjam\n",
       "0     Fisika  PS_001       9       1\n",
       "1      Kimia  PS_002      10       2\n",
       "2    Biologi  PS_003      10       5\n",
       "3       Seni  PS_004      20       4\n",
       "4  Indonesia  PS_005       7       2\n",
       "5  Astronomi  PS_006       5       5"
      ]
     },
     "execution_count": 49,
     "metadata": {},
     "output_type": "execute_result"
    }
   ],
   "source": [
    "df"
   ]
  },
  {
   "cell_type": "code",
   "execution_count": 50,
   "id": "b6252886",
   "metadata": {},
   "outputs": [
    {
     "name": "stdout",
     "output_type": "stream",
     "text": [
      "Form Peminjaman\n",
      "Nama=Aghni\n",
      "Kode=PS_003\n",
      "Bisa Dipinjam Aghni\n",
      "Durasi waktu pinjam 3 hari\n"
     ]
    }
   ],
   "source": [
    "df=peminjaman_df()"
   ]
  },
  {
   "cell_type": "code",
   "execution_count": 51,
   "id": "f388686a",
   "metadata": {},
   "outputs": [
    {
     "data": {
      "text/html": [
       "<div>\n",
       "<style scoped>\n",
       "    .dataframe tbody tr th:only-of-type {\n",
       "        vertical-align: middle;\n",
       "    }\n",
       "\n",
       "    .dataframe tbody tr th {\n",
       "        vertical-align: top;\n",
       "    }\n",
       "\n",
       "    .dataframe thead th {\n",
       "        text-align: right;\n",
       "    }\n",
       "</style>\n",
       "<table border=\"1\" class=\"dataframe\">\n",
       "  <thead>\n",
       "    <tr style=\"text-align: right;\">\n",
       "      <th></th>\n",
       "      <th>Nama</th>\n",
       "      <th>Kode</th>\n",
       "      <th>Jumlah</th>\n",
       "      <th>Pinjam</th>\n",
       "    </tr>\n",
       "  </thead>\n",
       "  <tbody>\n",
       "    <tr>\n",
       "      <th>0</th>\n",
       "      <td>Fisika</td>\n",
       "      <td>PS_001</td>\n",
       "      <td>9</td>\n",
       "      <td>1</td>\n",
       "    </tr>\n",
       "    <tr>\n",
       "      <th>1</th>\n",
       "      <td>Kimia</td>\n",
       "      <td>PS_002</td>\n",
       "      <td>10</td>\n",
       "      <td>2</td>\n",
       "    </tr>\n",
       "    <tr>\n",
       "      <th>2</th>\n",
       "      <td>Biologi</td>\n",
       "      <td>PS_003</td>\n",
       "      <td>9</td>\n",
       "      <td>6</td>\n",
       "    </tr>\n",
       "    <tr>\n",
       "      <th>3</th>\n",
       "      <td>Seni</td>\n",
       "      <td>PS_004</td>\n",
       "      <td>20</td>\n",
       "      <td>4</td>\n",
       "    </tr>\n",
       "    <tr>\n",
       "      <th>4</th>\n",
       "      <td>Indonesia</td>\n",
       "      <td>PS_005</td>\n",
       "      <td>7</td>\n",
       "      <td>2</td>\n",
       "    </tr>\n",
       "    <tr>\n",
       "      <th>5</th>\n",
       "      <td>Astronomi</td>\n",
       "      <td>PS_006</td>\n",
       "      <td>5</td>\n",
       "      <td>5</td>\n",
       "    </tr>\n",
       "  </tbody>\n",
       "</table>\n",
       "</div>"
      ],
      "text/plain": [
       "        Nama    Kode  Jumlah  Pinjam\n",
       "0     Fisika  PS_001       9       1\n",
       "1      Kimia  PS_002      10       2\n",
       "2    Biologi  PS_003       9       6\n",
       "3       Seni  PS_004      20       4\n",
       "4  Indonesia  PS_005       7       2\n",
       "5  Astronomi  PS_006       5       5"
      ]
     },
     "execution_count": 51,
     "metadata": {},
     "output_type": "execute_result"
    }
   ],
   "source": [
    "df"
   ]
  },
  {
   "cell_type": "code",
   "execution_count": 52,
   "id": "61134225",
   "metadata": {},
   "outputs": [
    {
     "name": "stdout",
     "output_type": "stream",
     "text": [
      "Form Pengembalian\n",
      "Nama\t=Aghniya\n",
      "Kode\t=PS_004\n",
      "Jumlah hari\t=5\n",
      "Terima kasih, Aghniya\n",
      " Denda sebesar Rp2000\n"
     ]
    }
   ],
   "source": [
    "df=pengembalian_df()"
   ]
  },
  {
   "cell_type": "code",
   "execution_count": 53,
   "id": "9d87296c",
   "metadata": {},
   "outputs": [
    {
     "data": {
      "text/html": [
       "<div>\n",
       "<style scoped>\n",
       "    .dataframe tbody tr th:only-of-type {\n",
       "        vertical-align: middle;\n",
       "    }\n",
       "\n",
       "    .dataframe tbody tr th {\n",
       "        vertical-align: top;\n",
       "    }\n",
       "\n",
       "    .dataframe thead th {\n",
       "        text-align: right;\n",
       "    }\n",
       "</style>\n",
       "<table border=\"1\" class=\"dataframe\">\n",
       "  <thead>\n",
       "    <tr style=\"text-align: right;\">\n",
       "      <th></th>\n",
       "      <th>Nama</th>\n",
       "      <th>Kode</th>\n",
       "      <th>Jumlah</th>\n",
       "      <th>Pinjam</th>\n",
       "    </tr>\n",
       "  </thead>\n",
       "  <tbody>\n",
       "    <tr>\n",
       "      <th>0</th>\n",
       "      <td>Fisika</td>\n",
       "      <td>PS_001</td>\n",
       "      <td>9</td>\n",
       "      <td>1</td>\n",
       "    </tr>\n",
       "    <tr>\n",
       "      <th>1</th>\n",
       "      <td>Kimia</td>\n",
       "      <td>PS_002</td>\n",
       "      <td>10</td>\n",
       "      <td>2</td>\n",
       "    </tr>\n",
       "    <tr>\n",
       "      <th>2</th>\n",
       "      <td>Biologi</td>\n",
       "      <td>PS_003</td>\n",
       "      <td>9</td>\n",
       "      <td>6</td>\n",
       "    </tr>\n",
       "    <tr>\n",
       "      <th>3</th>\n",
       "      <td>Seni</td>\n",
       "      <td>PS_004</td>\n",
       "      <td>21</td>\n",
       "      <td>3</td>\n",
       "    </tr>\n",
       "    <tr>\n",
       "      <th>4</th>\n",
       "      <td>Indonesia</td>\n",
       "      <td>PS_005</td>\n",
       "      <td>7</td>\n",
       "      <td>2</td>\n",
       "    </tr>\n",
       "    <tr>\n",
       "      <th>5</th>\n",
       "      <td>Astronomi</td>\n",
       "      <td>PS_006</td>\n",
       "      <td>5</td>\n",
       "      <td>5</td>\n",
       "    </tr>\n",
       "  </tbody>\n",
       "</table>\n",
       "</div>"
      ],
      "text/plain": [
       "        Nama    Kode  Jumlah  Pinjam\n",
       "0     Fisika  PS_001       9       1\n",
       "1      Kimia  PS_002      10       2\n",
       "2    Biologi  PS_003       9       6\n",
       "3       Seni  PS_004      21       3\n",
       "4  Indonesia  PS_005       7       2\n",
       "5  Astronomi  PS_006       5       5"
      ]
     },
     "execution_count": 53,
     "metadata": {},
     "output_type": "execute_result"
    }
   ],
   "source": [
    "df"
   ]
  },
  {
   "cell_type": "code",
   "execution_count": 54,
   "id": "8ced1cb5",
   "metadata": {},
   "outputs": [
    {
     "data": {
      "image/png": "[encoded data removed]",
      "text/plain": [
       "<Figure size 432x288 with 1 Axes>"
      ]
     },
     "metadata": {
      "needs_background": "light"
     },
     "output_type": "display_data"
    }
   ],
   "source": [
    "plt.title('Ketersediaan Buku')\n",
    "pjgLabel=np.arange(len(df))\n",
    "lbr=0.5\n",
    "varLabel=df['Nama'].values\n",
    "varJumlah=df['Jumlah'].values\n",
    "varPinjam=df['Pinjam'].values\n",
    "plt.bar(pjgLabel, varJumlah, color='red', width=lbr, label='Jumlah')\n",
    "plt.bar(pjgLabel+lbr, varPinjam, color='blue', width=lbr, label='Pinjam')\n",
    "plt.legend(loc='best')\n",
    "plt.show()"
   ]
  },
  {
   "cell_type": "code",
   "execution_count": 55,
   "id": "c60ef7e3",
   "metadata": {},
   "outputs": [
    {
     "data": {
      "image/png": "[encoded data removed]",
      "text/plain": [
       "<Figure size 432x288 with 1 Axes>"
      ]
     },
     "metadata": {},
     "output_type": "display_data"
    }
   ],
   "source": [
    "plt.title('Persentase Ketersediaan Buku')\n",
    "plt.pie(varJumlah, labels=varLabel, autopct='%1.2f%%', shadow=True)\n",
    "plt.show()"
   ]
  },
  {
   "cell_type": "code",
   "execution_count": 56,
   "id": "3ea786cf",
   "metadata": {},
   "outputs": [
    {
     "data": {
      "image/png": "[encoded data removed]",
      "text/plain": [
       "<Figure size 432x288 with 1 Axes>"
      ]
     },
     "metadata": {},
     "output_type": "display_data"
    }
   ],
   "source": [
    "plt.title('Persentase Peminjaman Buku')\n",
    "plt.pie(varPinjam, labels=varLabel, autopct='%1.2f%%', shadow=True)\n",
    "plt.show()"
   ]
  },
  {
   "cell_type": "code",
   "execution_count": null,
   "id": "a36b333d",
   "metadata": {},
   "outputs": [],
   "source": []
  }
 ],
 "metadata": {
  "kernelspec": {
   "display_name": "Python 3 (ipykernel)",
   "language": "python",
   "name": "python3"
  },
  "language_info": {
   "codemirror_mode": {
    "name": "ipython",
    "version": 3
   },
   "file_extension": ".py",
   "mimetype": "text/x-python",
   "name": "python",
   "nbconvert_exporter": "python",
   "pygments_lexer": "ipython3",
   "version": "3.9.12"
  }
 },
 "nbformat": 4,
 "nbformat_minor": 5
}
