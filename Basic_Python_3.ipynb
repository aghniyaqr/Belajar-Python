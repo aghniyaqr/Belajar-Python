{
 "cells": [
  {
   "cell_type": "markdown",
   "id": "4fcd9e93",
   "metadata": {},
   "source": [
    "# Basic Python 3"
   ]
  },
  {
   "cell_type": "markdown",
   "id": "c2f9e7cb",
   "metadata": {},
   "source": [
    "## If"
   ]
  },
  {
   "cell_type": "code",
   "execution_count": 4,
   "id": "31a4d145",
   "metadata": {},
   "outputs": [
    {
     "name": "stdout",
     "output_type": "stream",
     "text": [
      "Masukan nilai=2\n",
      "Bilangan positif dengan nilai 2\n"
     ]
    }
   ],
   "source": [
    "var1=int(input(\"Masukan nilai=\"))\n",
    "if var1>0:\n",
    "    print(\"Bilangan positif dengan nilai\",var1)\n",
    "else:\n",
    "    print(\"Bilangan negatif dengan nilai\",var1)"
   ]
  },
  {
   "cell_type": "code",
   "execution_count": 8,
   "id": "ddbeab0b",
   "metadata": {},
   "outputs": [
    {
     "name": "stdout",
     "output_type": "stream",
     "text": [
      "Username (3-5 Karakter)=Aghni\n",
      "Data telah dimasukan ke sistem\n"
     ]
    }
   ],
   "source": [
    "var2=str(input(\"Username (3-5 Karakter)=\"))\n",
    "if len(var2)<3:\n",
    "    print(\"Kurang dari 3, Panjang Username=\",len(var2))\n",
    "elif len(var2)>=3 and len(var2)<=5:\n",
    "    print(\"Data telah dimasukan ke sistem\")\n",
    "else:\n",
    "    print(\"Panjang Username berlebih, yaitu=\",len(var2))"
   ]
  },
  {
   "cell_type": "code",
   "execution_count": 3,
   "id": "2d638bd1",
   "metadata": {},
   "outputs": [
    {
     "name": "stdout",
     "output_type": "stream",
     "text": [
      "Pilih Voucher A atau B=B\n",
      "Masukan Angka 1-3=3\n",
      "B3=Meja\n"
     ]
    }
   ],
   "source": [
    "var3=str(input(\"Pilih Voucher A atau B=\"))\n",
    "if var3==\"A\":\n",
    "    var4=int(input(\"Masukan Angka 1-3=\"))\n",
    "    if var4 == 1:\n",
    "        print(var3+str(var4)+\"=Mobil\")\n",
    "    elif var4 == 2:\n",
    "        print(var3+str(var4)+\"=Motor\")\n",
    "    elif var4 == 3:\n",
    "        print(var3+str(var4)+\"=Sepeda\")\n",
    "    else:\n",
    "        print(\"Tidak Ditemukan\")\n",
    "        \n",
    "elif var3==\"B\":\n",
    "    var4=int(input(\"Masukan Angka 1-3=\"))\n",
    "    if var4 == 1:\n",
    "        print(var3+str(var4)+\"=Mesin Cuci\")\n",
    "    elif var4 == 2:\n",
    "        print(var3+str(var4)+\"=TV\")\n",
    "    elif var4 == 3:\n",
    "        print(var3+str(var4)+\"=Meja\")\n",
    "    else:\n",
    "        print(\"Tidak Ditemukan\")       "
   ]
  },
  {
   "cell_type": "markdown",
   "id": "70f6e617",
   "metadata": {},
   "source": [
    "## While"
   ]
  },
  {
   "cell_type": "code",
   "execution_count": 4,
   "id": "3af02ff8",
   "metadata": {},
   "outputs": [
    {
     "name": "stdout",
     "output_type": "stream",
     "text": [
      "0\n",
      "1\n",
      "2\n",
      "3\n",
      "4\n"
     ]
    }
   ],
   "source": [
    "var1=0\n",
    "while var1<5:\n",
    "    print(var1)\n",
    "    var1+=1"
   ]
  },
  {
   "cell_type": "code",
   "execution_count": 6,
   "id": "0569975b",
   "metadata": {},
   "outputs": [
    {
     "name": "stdout",
     "output_type": "stream",
     "text": [
      "0\n",
      "1\n",
      "2\n",
      "3\n",
      "4\n",
      "5\n",
      "6\n",
      "7\n",
      "8\n",
      "9\n",
      "selesai\n"
     ]
    }
   ],
   "source": [
    "var2=0\n",
    "while True:\n",
    "    print(var2)\n",
    "    var2+=1\n",
    "    if var2==10:\n",
    "        break\n",
    "print(\"selesai\")"
   ]
  },
  {
   "cell_type": "code",
   "execution_count": 7,
   "id": "772c0469",
   "metadata": {},
   "outputs": [
    {
     "name": "stdout",
     "output_type": "stream",
     "text": [
      "4\n",
      "3\n",
      "2\n",
      "1\n"
     ]
    }
   ],
   "source": [
    "var3=4\n",
    "while var3>0:\n",
    "    print(var3)\n",
    "    var3-=1"
   ]
  },
  {
   "cell_type": "markdown",
   "id": "9f8e83dc",
   "metadata": {},
   "source": [
    "## For"
   ]
  },
  {
   "cell_type": "code",
   "execution_count": 8,
   "id": "24dcbc45",
   "metadata": {},
   "outputs": [
    {
     "name": "stdout",
     "output_type": "stream",
     "text": [
      "0\n",
      "1\n",
      "2\n",
      "3\n",
      "4\n"
     ]
    }
   ],
   "source": [
    "for i in range (0,5):\n",
    "    print(i)"
   ]
  },
  {
   "cell_type": "code",
   "execution_count": 9,
   "id": "f0f3b65c",
   "metadata": {},
   "outputs": [
    {
     "name": "stdout",
     "output_type": "stream",
     "text": [
      "0\n",
      "1\n",
      "2\n",
      "3\n",
      "4\n",
      "5\n",
      "6\n",
      "7\n",
      "8\n",
      "9\n"
     ]
    }
   ],
   "source": [
    "for i in range (0,10):\n",
    "    print(i)"
   ]
  },
  {
   "cell_type": "code",
   "execution_count": 10,
   "id": "a11aa409",
   "metadata": {},
   "outputs": [
    {
     "data": {
      "text/plain": [
       "'Buaya'"
      ]
     },
     "execution_count": 10,
     "metadata": {},
     "output_type": "execute_result"
    }
   ],
   "source": [
    "Nama_Reptil=[\"Buaya\",\"Aligator\",\"Kura-kura\",\"Ular\"]\n",
    "Nama_Reptil[0]"
   ]
  },
  {
   "cell_type": "code",
   "execution_count": 12,
   "id": "f04602fc",
   "metadata": {},
   "outputs": [
    {
     "name": "stdout",
     "output_type": "stream",
     "text": [
      "Buaya\n",
      "Aligator\n",
      "Kura-kura\n",
      "Ular\n"
     ]
    }
   ],
   "source": [
    "for i in range (0,len(Nama_Reptil)):\n",
    "    print(Nama_Reptil[i])"
   ]
  },
  {
   "cell_type": "code",
   "execution_count": 13,
   "id": "9f59f1c7",
   "metadata": {},
   "outputs": [
    {
     "name": "stdout",
     "output_type": "stream",
     "text": [
      "Buaya\n",
      "Aligator\n",
      "Kura-kura\n",
      "Ular\n"
     ]
    }
   ],
   "source": [
    "for NR in Nama_Reptil:\n",
    "    print(NR)"
   ]
  },
  {
   "cell_type": "code",
   "execution_count": 14,
   "id": "bf4a66a4",
   "metadata": {},
   "outputs": [
    {
     "name": "stdout",
     "output_type": "stream",
     "text": [
      "B\n",
      "r\n",
      "i\n",
      "a\n",
      "n\n"
     ]
    }
   ],
   "source": [
    "for i in \"Brian\":\n",
    "    print(i)"
   ]
  },
  {
   "cell_type": "code",
   "execution_count": 18,
   "id": "80240edd",
   "metadata": {},
   "outputs": [
    {
     "name": "stdout",
     "output_type": "stream",
     "text": [
      "Masukan data ke-0=Halo\n",
      "Masukan data ke-1=Hola\n",
      "Masukan data ke-2=Gutten\n",
      "Masukan data ke-3=Hai\n"
     ]
    }
   ],
   "source": [
    "for i in range (len(Nama_Reptil)):\n",
    "    Nama_Reptil[i]=str(input(\"Masukan data ke-\"+str(i)+\"=\"))"
   ]
  },
  {
   "cell_type": "code",
   "execution_count": 19,
   "id": "bd051d0f",
   "metadata": {},
   "outputs": [
    {
     "data": {
      "text/plain": [
       "['Halo', 'Hola', 'Gutten', 'Hai']"
      ]
     },
     "execution_count": 19,
     "metadata": {},
     "output_type": "execute_result"
    }
   ],
   "source": [
    "Nama_Reptil"
   ]
  },
  {
   "cell_type": "code",
   "execution_count": null,
   "id": "86c5de95",
   "metadata": {},
   "outputs": [],
   "source": []
  }
 ],
 "metadata": {
  "kernelspec": {
   "display_name": "Python 3 (ipykernel)",
   "language": "python",
   "name": "python3"
  },
  "language_info": {
   "codemirror_mode": {
    "name": "ipython",
    "version": 3
   },
   "file_extension": ".py",
   "mimetype": "text/x-python",
   "name": "python",
   "nbconvert_exporter": "python",
   "pygments_lexer": "ipython3",
   "version": "3.9.12"
  }
 },
 "nbformat": 4,
 "nbformat_minor": 5
}
